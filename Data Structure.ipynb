{
 "cells": [
  {
   "cell_type": "code",
   "execution_count": null,
   "id": "a08ca37e",
   "metadata": {},
   "outputs": [],
   "source": [
    "#Q1. print even no from both the lists and add them into new list"
   ]
  },
  {
   "cell_type": "code",
   "execution_count": 1,
   "id": "b156d6bd",
   "metadata": {},
   "outputs": [],
   "source": [
    "l1 = [3, 6, 9, 12, 15, 18, 21]\n",
    "l2 = [4, 8, 12, 16, 20, 24, 28]"
   ]
  },
  {
   "cell_type": "code",
   "execution_count": 20,
   "id": "a9b47e9b",
   "metadata": {},
   "outputs": [
    {
     "data": {
      "text/plain": [
       "[6, 12, 18]"
      ]
     },
     "execution_count": 20,
     "metadata": {},
     "output_type": "execute_result"
    }
   ],
   "source": [
    "#print odd numbers\n",
    "even1 = l1[1::2]\n",
    "odd"
   ]
  },
  {
   "cell_type": "code",
   "execution_count": 21,
   "id": "15d2e0af",
   "metadata": {},
   "outputs": [],
   "source": [
    "#Q2. print even numbers\n",
    "even = l2[::2]"
   ]
  },
  {
   "cell_type": "code",
   "execution_count": 22,
   "id": "ed8a7be4",
   "metadata": {},
   "outputs": [
    {
     "name": "stdout",
     "output_type": "stream",
     "text": [
      "[6, 12, 18, 4, 12, 20, 28]\n"
     ]
    }
   ],
   "source": [
    "res = []\n",
    "res.extend(even1)\n",
    "res.extend(even)\n",
    "print(res)"
   ]
  },
  {
   "cell_type": "code",
   "execution_count": 23,
   "id": "3eb58bca",
   "metadata": {},
   "outputs": [],
   "source": [
    "#Q3. add and remove items"
   ]
  },
  {
   "cell_type": "code",
   "execution_count": 27,
   "id": "f8649144",
   "metadata": {},
   "outputs": [],
   "source": [
    "list1 = [5,15,25,35,45,55,65,75]"
   ]
  },
  {
   "cell_type": "code",
   "execution_count": 29,
   "id": "2a640547",
   "metadata": {},
   "outputs": [
    {
     "data": {
      "text/plain": [
       "45"
      ]
     },
     "execution_count": 29,
     "metadata": {},
     "output_type": "execute_result"
    }
   ],
   "source": [
    "list1.pop(4)"
   ]
  },
  {
   "cell_type": "code",
   "execution_count": 30,
   "id": "2c184236",
   "metadata": {},
   "outputs": [
    {
     "data": {
      "text/plain": [
       "[5, 15, 25, 35, 55, 65, 75]"
      ]
     },
     "execution_count": 30,
     "metadata": {},
     "output_type": "execute_result"
    }
   ],
   "source": [
    "list1"
   ]
  },
  {
   "cell_type": "code",
   "execution_count": 31,
   "id": "209459a6",
   "metadata": {},
   "outputs": [],
   "source": [
    "list1.insert(2,85)"
   ]
  },
  {
   "cell_type": "code",
   "execution_count": 32,
   "id": "66e4d93d",
   "metadata": {},
   "outputs": [
    {
     "data": {
      "text/plain": [
       "[5, 15, 85, 25, 35, 55, 65, 75]"
      ]
     },
     "execution_count": 32,
     "metadata": {},
     "output_type": "execute_result"
    }
   ],
   "source": [
    "list1"
   ]
  },
  {
   "cell_type": "code",
   "execution_count": 37,
   "id": "87e83cac",
   "metadata": {},
   "outputs": [],
   "source": [
    "list1.append(95)"
   ]
  },
  {
   "cell_type": "code",
   "execution_count": 38,
   "id": "3c7036c1",
   "metadata": {},
   "outputs": [
    {
     "data": {
      "text/plain": [
       "[5, 15, 85, 25, 35, 55, 65, 95, 75, 95]"
      ]
     },
     "execution_count": 38,
     "metadata": {},
     "output_type": "execute_result"
    }
   ],
   "source": [
    "list1"
   ]
  },
  {
   "cell_type": "code",
   "execution_count": null,
   "id": "01f10566",
   "metadata": {},
   "outputs": [],
   "source": [
    "#Q4. split list into 3 sections and reverse them "
   ]
  },
  {
   "cell_type": "code",
   "execution_count": 39,
   "id": "ebb75e74",
   "metadata": {},
   "outputs": [],
   "source": [
    "sample_list = [11, 45, 8, 23, 14, 12, 78, 45, 89]"
   ]
  },
  {
   "cell_type": "code",
   "execution_count": 50,
   "id": "4e382f37",
   "metadata": {},
   "outputs": [
    {
     "data": {
      "text/plain": [
       "[8, 45, 11]"
      ]
     },
     "execution_count": 50,
     "metadata": {},
     "output_type": "execute_result"
    }
   ],
   "source": [
    "a = sample_list[:3]\n",
    "a[-1:-4:-1]"
   ]
  },
  {
   "cell_type": "code",
   "execution_count": 52,
   "id": "77676e07",
   "metadata": {},
   "outputs": [
    {
     "data": {
      "text/plain": [
       "[12, 14, 23]"
      ]
     },
     "execution_count": 52,
     "metadata": {},
     "output_type": "execute_result"
    }
   ],
   "source": [
    "b = sample_list[3:6]\n",
    "b[-1:-4:-1]"
   ]
  },
  {
   "cell_type": "code",
   "execution_count": 53,
   "id": "88435d07",
   "metadata": {},
   "outputs": [
    {
     "data": {
      "text/plain": [
       "[89, 45, 78]"
      ]
     },
     "execution_count": 53,
     "metadata": {},
     "output_type": "execute_result"
    }
   ],
   "source": [
    "c = sample_list[6:]\n",
    "c[-1:-4:-1]"
   ]
  },
  {
   "cell_type": "code",
   "execution_count": null,
   "id": "ae1fb420",
   "metadata": {},
   "outputs": [],
   "source": [
    "#Q5. count the occrence of item"
   ]
  },
  {
   "cell_type": "code",
   "execution_count": 54,
   "id": "89c7253e",
   "metadata": {},
   "outputs": [],
   "source": [
    "sample_list = [11, 45, 8, 11, 23, 45, 23, 45, 89]"
   ]
  },
  {
   "cell_type": "code",
   "execution_count": 56,
   "id": "915786c7",
   "metadata": {},
   "outputs": [],
   "source": [
    "dict = {}\n",
    "for i in sample_list:\n",
    "    if i in dict:\n",
    "        dict[i] += 1\n",
    "    else:\n",
    "        dict[i] = 1"
   ]
  },
  {
   "cell_type": "code",
   "execution_count": 57,
   "id": "e6db0794",
   "metadata": {},
   "outputs": [
    {
     "data": {
      "text/plain": [
       "{11: 2, 45: 3, 8: 1, 23: 2, 89: 1}"
      ]
     },
     "execution_count": 57,
     "metadata": {},
     "output_type": "execute_result"
    }
   ],
   "source": [
    "dict"
   ]
  },
  {
   "cell_type": "code",
   "execution_count": 66,
   "id": "d4667cca",
   "metadata": {},
   "outputs": [],
   "source": [
    "#Q6. Find the intersection (common) of two sets and remove those elements from the first set"
   ]
  },
  {
   "cell_type": "code",
   "execution_count": 58,
   "id": "59f13523",
   "metadata": {},
   "outputs": [],
   "source": [
    "first_list = [2, 3, 4, 5, 6, 7, 8]\n",
    "second_list = [4, 9, 16, 25, 36, 49, 64]"
   ]
  },
  {
   "cell_type": "code",
   "execution_count": 64,
   "id": "534e826a",
   "metadata": {},
   "outputs": [],
   "source": [
    "result = zip(first_list,second_list)\n",
    "final_result = set(result)"
   ]
  },
  {
   "cell_type": "code",
   "execution_count": 65,
   "id": "33c475ce",
   "metadata": {},
   "outputs": [
    {
     "data": {
      "text/plain": [
       "{(2, 4), (3, 9), (4, 16), (5, 25), (6, 36), (7, 49), (8, 64)}"
      ]
     },
     "execution_count": 65,
     "metadata": {},
     "output_type": "execute_result"
    }
   ],
   "source": [
    "final_result"
   ]
  },
  {
   "cell_type": "code",
   "execution_count": null,
   "id": "7b8457fa",
   "metadata": {},
   "outputs": [],
   "source": [
    "#Q7. Checks if one set is a subset or superset of another set. If found, delete all elements from that set"
   ]
  },
  {
   "cell_type": "code",
   "execution_count": 67,
   "id": "9f81bfae",
   "metadata": {},
   "outputs": [],
   "source": [
    "first_set = {23, 42, 65, 57, 78, 83, 29}\n",
    "second_set = {57, 83, 29, 67, 73, 43, 48}"
   ]
  },
  {
   "cell_type": "code",
   "execution_count": 69,
   "id": "57c1e621",
   "metadata": {},
   "outputs": [],
   "source": [
    "i = first_set.intersection(second_set)"
   ]
  },
  {
   "cell_type": "code",
   "execution_count": 70,
   "id": "4b57b0ca",
   "metadata": {},
   "outputs": [
    {
     "name": "stdout",
     "output_type": "stream",
     "text": [
      "intersection is  {57, 83, 29}\n"
     ]
    }
   ],
   "source": [
    "print(\"intersection is \",i)"
   ]
  },
  {
   "cell_type": "code",
   "execution_count": 79,
   "id": "9575c23a",
   "metadata": {},
   "outputs": [],
   "source": [
    "update = first_set.symmetric_difference(i)"
   ]
  },
  {
   "cell_type": "code",
   "execution_count": 80,
   "id": "cf48b9c7",
   "metadata": {},
   "outputs": [
    {
     "data": {
      "text/plain": [
       "{23, 42, 65, 78}"
      ]
     },
     "execution_count": 80,
     "metadata": {},
     "output_type": "execute_result"
    }
   ],
   "source": [
    "update"
   ]
  },
  {
   "cell_type": "code",
   "execution_count": 81,
   "id": "71969e13",
   "metadata": {},
   "outputs": [
    {
     "name": "stdout",
     "output_type": "stream",
     "text": [
      "First set after removing common sets {65, 42, 78, 23}\n"
     ]
    }
   ],
   "source": [
    "print(\"First set after removing common sets\",update)"
   ]
  },
  {
   "cell_type": "code",
   "execution_count": 82,
   "id": "a796e754",
   "metadata": {},
   "outputs": [],
   "source": [
    "first_set = {27, 43, 34}\n",
    "second_set = {34, 93, 22, 27, 43, 53, 48}"
   ]
  },
  {
   "cell_type": "code",
   "execution_count": 84,
   "id": "60fa1422",
   "metadata": {},
   "outputs": [
    {
     "name": "stdout",
     "output_type": "stream",
     "text": [
      "True\n",
      "False\n"
     ]
    }
   ],
   "source": [
    "print(first_set.issubset(second_set))\n",
    "print(first_set.issuperset(second_set))"
   ]
  },
  {
   "cell_type": "code",
   "execution_count": 85,
   "id": "40fb1fb0",
   "metadata": {},
   "outputs": [
    {
     "name": "stdout",
     "output_type": "stream",
     "text": [
      "False\n",
      "True\n"
     ]
    }
   ],
   "source": [
    "print(second_set.issubset(first_set))\n",
    "print(second_set.issuperset(first_set))"
   ]
  },
  {
   "cell_type": "code",
   "execution_count": 88,
   "id": "fb7fb660",
   "metadata": {},
   "outputs": [],
   "source": [
    "if first_set.issubset(second_set):\n",
    "    first_set.clear()\n",
    "\n",
    "if second_set.issubset(first_set):\n",
    "    second_set.clear()\n"
   ]
  },
  {
   "cell_type": "code",
   "execution_count": 89,
   "id": "cb60f058",
   "metadata": {},
   "outputs": [
    {
     "name": "stdout",
     "output_type": "stream",
     "text": [
      "set()\n",
      "{34, 43, 48, 53, 22, 27, 93}\n"
     ]
    }
   ],
   "source": [
    "print(first_set)\n",
    "print(second_set)"
   ]
  },
  {
   "cell_type": "code",
   "execution_count": null,
   "id": "9899a04f",
   "metadata": {},
   "outputs": [],
   "source": [
    "#Q8. Iterate a given list and check if a given element exists as a key’s value in a dictionary. If not, delete it from the list"
   ]
  },
  {
   "cell_type": "code",
   "execution_count": 90,
   "id": "b2433367",
   "metadata": {},
   "outputs": [],
   "source": [
    "roll_number = [47, 64, 69, 37, 76, 83, 95, 97]\n",
    "sample_dict = {'Jhon':47, 'Emma':69, 'Kelly':76, 'Jason':97}"
   ]
  },
  {
   "cell_type": "code",
   "execution_count": 114,
   "id": "ae1b315b",
   "metadata": {},
   "outputs": [
    {
     "name": "stdout",
     "output_type": "stream",
     "text": [
      "after removing unwanted elements from list: [47, 69, 76, 97]\n"
     ]
    }
   ],
   "source": [
    "\n",
    "for i in roll_number:\n",
    "    if i in sample_dict.values():\n",
    "        pass\n",
    "print(\"after removing unwanted elements from list:\",roll_number)"
   ]
  },
  {
   "cell_type": "code",
   "execution_count": null,
   "id": "588df9aa",
   "metadata": {},
   "outputs": [],
   "source": [
    "#Q9. Get all values from the dictionary and add them to a list but don’t add duplicates"
   ]
  },
  {
   "cell_type": "code",
   "execution_count": 120,
   "id": "15c2fefd",
   "metadata": {},
   "outputs": [],
   "source": [
    "speed = {'jan': 47, 'feb': 52, 'march': 47, 'April': 44, 'May': 52, 'June': 53, 'july': 54, 'Aug': 44, 'Sept': 54}"
   ]
  },
  {
   "cell_type": "code",
   "execution_count": 122,
   "id": "46d09111",
   "metadata": {},
   "outputs": [
    {
     "name": "stdout",
     "output_type": "stream",
     "text": [
      "[47, 52, 44, 53, 54]\n"
     ]
    }
   ],
   "source": [
    "l = []\n",
    "for i in speed.values():\n",
    "    if i not in l:\n",
    "        l.append(i)\n",
    "print(l)   "
   ]
  },
  {
   "cell_type": "code",
   "execution_count": null,
   "id": "d774a233",
   "metadata": {},
   "outputs": [],
   "source": [
    "#Q10. Remove duplicates from a list and create a tuple and find the minimum and maximum number"
   ]
  },
  {
   "cell_type": "code",
   "execution_count": 1,
   "id": "ebcde1a8",
   "metadata": {},
   "outputs": [],
   "source": [
    "sample_list = [87, 45, 41, 65, 94, 41, 99, 94]"
   ]
  },
  {
   "cell_type": "code",
   "execution_count": 2,
   "id": "92194e1a",
   "metadata": {},
   "outputs": [
    {
     "name": "stdout",
     "output_type": "stream",
     "text": [
      "{65, 99, 41, 45, 87, 94}\n"
     ]
    }
   ],
   "source": [
    "unique_no = set(sample_list)\n",
    "print(unique_no)"
   ]
  },
  {
   "cell_type": "code",
   "execution_count": 5,
   "id": "c63616af",
   "metadata": {},
   "outputs": [
    {
     "name": "stdout",
     "output_type": "stream",
     "text": [
      "(65, 99, 41, 45, 87, 94)\n"
     ]
    }
   ],
   "source": [
    "t = tuple(unique_no)\n",
    "print(t)"
   ]
  },
  {
   "cell_type": "code",
   "execution_count": 6,
   "id": "260ba93b",
   "metadata": {},
   "outputs": [
    {
     "name": "stdout",
     "output_type": "stream",
     "text": [
      "99\n",
      "41\n"
     ]
    }
   ],
   "source": [
    "print(max(sample_list))\n",
    "print(min(sample_list))"
   ]
  },
  {
   "cell_type": "code",
   "execution_count": null,
   "id": "3c33d439",
   "metadata": {},
   "outputs": [],
   "source": []
  }
 ],
 "metadata": {
  "kernelspec": {
   "display_name": "Python 3",
   "language": "python",
   "name": "python3"
  },
  "language_info": {
   "codemirror_mode": {
    "name": "ipython",
    "version": 3
   },
   "file_extension": ".py",
   "mimetype": "text/x-python",
   "name": "python",
   "nbconvert_exporter": "python",
   "pygments_lexer": "ipython3",
   "version": "3.8.8"
  }
 },
 "nbformat": 4,
 "nbformat_minor": 5
}
