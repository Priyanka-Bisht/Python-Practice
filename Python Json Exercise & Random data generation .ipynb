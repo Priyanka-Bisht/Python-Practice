{
 "cells": [
  {
   "cell_type": "code",
   "execution_count": 2,
   "id": "0cc8445d",
   "metadata": {},
   "outputs": [],
   "source": [
    "# Exercise 1: Convert the following dictionary into JSON format"
   ]
  },
  {
   "cell_type": "code",
   "execution_count": 4,
   "id": "52975d80",
   "metadata": {},
   "outputs": [
    {
     "name": "stdout",
     "output_type": "stream",
     "text": [
      "{\"key1\": \"value1\", \"key2\": \"value2\"}\n"
     ]
    }
   ],
   "source": [
    "import json\n",
    "data = {\"key1\" : \"value1\", \"key2\" : \"value2\"}\n",
    "jsondata = json.dumps(data)\n",
    "print(jsondata)"
   ]
  },
  {
   "cell_type": "code",
   "execution_count": 5,
   "id": "4aec90ef",
   "metadata": {},
   "outputs": [],
   "source": [
    "# Exercise 2: Access the value of key2 from the following JSON"
   ]
  },
  {
   "cell_type": "code",
   "execution_count": 9,
   "id": "b649922a",
   "metadata": {},
   "outputs": [
    {
     "name": "stdout",
     "output_type": "stream",
     "text": [
      "value2\n"
     ]
    }
   ],
   "source": [
    "import json\n",
    "sampleJson = \"\"\"{\"key1\": \"value1\", \"key2\": \"value2\"}\"\"\"\n",
    "value = json.loads(sampleJson)\n",
    "print(value['key2'])"
   ]
  },
  {
   "cell_type": "code",
   "execution_count": 11,
   "id": "2a333ab5",
   "metadata": {},
   "outputs": [
    {
     "name": "stdout",
     "output_type": "stream",
     "text": [
      "{\n",
      "  \"key1\" = \"value1\",\n",
      "  \"key2\" = \"value2\",\n",
      "  \"key3\" = \"value3\"\n",
      "}\n"
     ]
    }
   ],
   "source": [
    "# Exercise 3: PrettyPrint following JSON data\n",
    "sampleJson = {\"key1\": \"value1\", \"key2\": \"value2\",\"key3\" : \"value3\"}\n",
    "prettyprint = json.dumps(sampleJson,indent=2,separators=(\",\", \" = \"))\n",
    "print(prettyprint)"
   ]
  },
  {
   "cell_type": "code",
   "execution_count": 14,
   "id": "4316dab0",
   "metadata": {},
   "outputs": [],
   "source": [
    "# Exercise 4: Sort JSON keys in and write them into a file\n",
    "sampleJson = {\"id\" : 1, \"name\" : \"value2\", \"age\" : 29}\n",
    "with open(\"sampleJson.json\", \"w\") as write_file:\n",
    "    json.dump(sampleJson, write_file, indent=4, sort_keys=True)\n",
    "    \n",
    "# Need to look into this"
   ]
  },
  {
   "cell_type": "code",
   "execution_count": 15,
   "id": "0fa9ec84",
   "metadata": {},
   "outputs": [
    {
     "name": "stdout",
     "output_type": "stream",
     "text": [
      "{'id': 1, 'name': 'value2', 'age': 29}\n"
     ]
    }
   ],
   "source": [
    "print(sampleJson)"
   ]
  },
  {
   "cell_type": "code",
   "execution_count": 8,
   "id": "8cbd5f06",
   "metadata": {},
   "outputs": [],
   "source": [
    "# Exercise 5: Access the nested key ‘salary’ from the following JSON"
   ]
  },
  {
   "cell_type": "code",
   "execution_count": 9,
   "id": "85493b95",
   "metadata": {},
   "outputs": [],
   "source": [
    "import json\n",
    "\n",
    "sampleJson = \"\"\"{ \n",
    "   \"company\":{ \n",
    "      \"employee\":{ \n",
    "         \"name\":\"emma\",\n",
    "         \"payble\":{ \n",
    "            \"salary\":7000,\n",
    "            \"bonus\":800\n",
    "         }\n",
    "      }\n",
    "   }\n",
    "}\"\"\""
   ]
  },
  {
   "cell_type": "code",
   "execution_count": 10,
   "id": "f15357e9",
   "metadata": {},
   "outputs": [
    {
     "name": "stdout",
     "output_type": "stream",
     "text": [
      "7000\n"
     ]
    }
   ],
   "source": [
    "key = json.loads(sampleJson)\n",
    "print(key['company']['employee']['payble']['salary'])"
   ]
  },
  {
   "cell_type": "code",
   "execution_count": 11,
   "id": "b689c61f",
   "metadata": {},
   "outputs": [],
   "source": [
    "# Exercise 6: Convert the following Vehicle Object into JSON"
   ]
  },
  {
   "cell_type": "code",
   "execution_count": 12,
   "id": "14cedadd",
   "metadata": {},
   "outputs": [],
   "source": [
    "import json\n",
    "\n",
    "class Vehicle:\n",
    "    def __init__(self, name, engine, price):\n",
    "        self.name = name\n",
    "        self.engine = engine\n",
    "        self.price = price\n",
    "\n",
    "vehicle = Vehicle(\"Toyota Rav4\", \"2.5L\", 32000)"
   ]
  },
  {
   "cell_type": "code",
   "execution_count": 14,
   "id": "b8ea5cc7",
   "metadata": {},
   "outputs": [
    {
     "name": "stdout",
     "output_type": "stream",
     "text": [
      "Encode Vehicle Object into JSON\n",
      "{\n",
      "    \"name\": \"Toyota Rav4\",\n",
      "    \"engine\": \"2.5L\",\n",
      "    \"price\": 32000\n",
      "}\n"
     ]
    }
   ],
   "source": [
    "import json\n",
    "from json import JSONEncoder\n",
    "\n",
    "class Vehicle:\n",
    "    def __init__(self, name, engine, price):\n",
    "        self.name = name\n",
    "        self.engine = engine\n",
    "        self.price = price\n",
    "\n",
    "class VehicleEncoder(JSONEncoder):\n",
    "        def default(self, o):\n",
    "            return o.__dict__\n",
    "\n",
    "vehicle = Vehicle(\"Toyota Rav4\", \"2.5L\", 32000)\n",
    "\n",
    "print(\"Encode Vehicle Object into JSON\")\n",
    "vehicleJson = json.dumps(vehicle, indent=4, cls=VehicleEncoder)\n",
    "print(vehicleJson)"
   ]
  },
  {
   "cell_type": "code",
   "execution_count": 15,
   "id": "d0735752",
   "metadata": {},
   "outputs": [],
   "source": [
    "# Exercise 7: Convert the following JSON into Vehicle Object"
   ]
  },
  {
   "cell_type": "code",
   "execution_count": 16,
   "id": "8157c278",
   "metadata": {},
   "outputs": [
    {
     "name": "stdout",
     "output_type": "stream",
     "text": [
      "Type of decoded object from JSON Data\n",
      "<class '__main__.Vehicle'>\n",
      "Vehicle Details\n",
      "Toyota Rav4 2.5L 32000\n"
     ]
    }
   ],
   "source": [
    "import json\n",
    "\n",
    "class Vehicle:\n",
    "    def __init__(self, name, engine, price):\n",
    "        self.name = name\n",
    "        self.engine = engine\n",
    "        self.price = price\n",
    "\n",
    "def vehicleDecoder(obj):\n",
    "        return Vehicle(obj['name'], obj['engine'], obj['price'])\n",
    "\n",
    "vehicleObj = json.loads('{ \"name\": \"Toyota Rav4\", \"engine\": \"2.5L\", \"price\": 32000 }',\n",
    "           object_hook=vehicleDecoder)\n",
    "\n",
    "print(\"Type of decoded object from JSON Data\")\n",
    "print(type(vehicleObj))\n",
    "print(\"Vehicle Details\")\n",
    "print(vehicleObj.name, vehicleObj.engine, vehicleObj.price)"
   ]
  },
  {
   "cell_type": "code",
   "execution_count": 17,
   "id": "132f5220",
   "metadata": {},
   "outputs": [],
   "source": [
    "# Exercise 8: Check whether following json is valid or invalid. If Invalid correct it"
   ]
  },
  {
   "cell_type": "code",
   "execution_count": 23,
   "id": "a4730340",
   "metadata": {},
   "outputs": [
    {
     "data": {
      "text/plain": [
       "{'company': {'employee': {'name': 'emma',\n",
       "   'payble': {'salary': 7000, 'bonus': 800}}}}"
      ]
     },
     "execution_count": 23,
     "metadata": {},
     "output_type": "execute_result"
    }
   ],
   "source": [
    "{ \n",
    "   \"company\":{ \n",
    "      \"employee\":{ \n",
    "         \"name\":\"emma\",\n",
    "         \"payble\":{ \n",
    "            \"salary\":7000,\n",
    "            \"bonus\":800\n",
    "         }\n",
    "      }\n",
    "   }\n",
    "}\n",
    "\n",
    "\n",
    "# Just add ',' after \"salary\":7000 to solve the error."
   ]
  },
  {
   "cell_type": "code",
   "execution_count": 22,
   "id": "825cce31",
   "metadata": {},
   "outputs": [
    {
     "name": "stderr",
     "output_type": "stream",
     "text": [
      "Expecting ',' delimiter: line 1 column 68 (char 67)\n"
     ]
    }
   ],
   "source": [
    "echo { \"company\":{ \"employee\":{ \"name\":\"emma\", \"payble\":{ \"salary\":7000 \"bonus\":800} } } } | python -m json.tool\n"
   ]
  },
  {
   "cell_type": "code",
   "execution_count": null,
   "id": "eabec11d",
   "metadata": {},
   "outputs": [],
   "source": []
  },
  {
   "cell_type": "code",
   "execution_count": null,
   "id": "3285f489",
   "metadata": {},
   "outputs": [],
   "source": []
  },
  {
   "cell_type": "code",
   "execution_count": null,
   "id": "ca25a4c7",
   "metadata": {},
   "outputs": [],
   "source": []
  },
  {
   "cell_type": "code",
   "execution_count": null,
   "id": "4d6f215a",
   "metadata": {},
   "outputs": [],
   "source": []
  },
  {
   "cell_type": "markdown",
   "id": "cff09982",
   "metadata": {},
   "source": [
    "# RANDOM DATA GENERATION"
   ]
  },
  {
   "cell_type": "code",
   "execution_count": 24,
   "id": "b146672c",
   "metadata": {},
   "outputs": [],
   "source": [
    "# Exercise 1: Generate 3 random integers between 100 and 999 which is divisible by 5"
   ]
  },
  {
   "cell_type": "code",
   "execution_count": 2,
   "id": "aa6ed4c7",
   "metadata": {},
   "outputs": [
    {
     "name": "stdout",
     "output_type": "stream",
     "text": [
      "400,290,620,"
     ]
    }
   ],
   "source": [
    "import random\n",
    "for i in range(3):\n",
    "    print(random.randrange(100,999,5),end=\",\")"
   ]
  },
  {
   "cell_type": "code",
   "execution_count": 3,
   "id": "a6295cf9",
   "metadata": {},
   "outputs": [
    {
     "name": "stdout",
     "output_type": "stream",
     "text": [
      "235 , 850 , 650 , "
     ]
    }
   ],
   "source": [
    "# Another way to perform the above exercise\n",
    "\n",
    "count = 1\n",
    "while count <= 3:\n",
    "    print(random.randrange(100,999,5),end=\" , \")\n",
    "    count += 1"
   ]
  },
  {
   "cell_type": "code",
   "execution_count": 4,
   "id": "a0d0ef6f",
   "metadata": {},
   "outputs": [],
   "source": [
    "# Exercise 2: Random Lottery Pick. Generate 100 random lottery tickets and pick two lucky tickets from it as a winner."
   ]
  },
  {
   "cell_type": "code",
   "execution_count": 6,
   "id": "951f9733",
   "metadata": {},
   "outputs": [
    {
     "name": "stdout",
     "output_type": "stream",
     "text": [
      "[1685273631, 5258080554]\n"
     ]
    }
   ],
   "source": [
    "lotery_tickets = []\n",
    "for i in range(100):\n",
    "    lotery_tickets.append(random.randrange(1000000000,9999999999))\n",
    "winners = random.sample(lotery_tickets,2)\n",
    "print(winners)"
   ]
  },
  {
   "cell_type": "code",
   "execution_count": 7,
   "id": "ad94d930",
   "metadata": {},
   "outputs": [],
   "source": [
    "# Exercise 3: Generate 6 digit random secure OTP"
   ]
  },
  {
   "cell_type": "code",
   "execution_count": 8,
   "id": "b2f3a857",
   "metadata": {},
   "outputs": [
    {
     "name": "stdout",
     "output_type": "stream",
     "text": [
      "514127\n"
     ]
    }
   ],
   "source": [
    "import secrets\n",
    "OTP_generator = secrets.SystemRandom()\n",
    "OTP = random.randrange(100000,999999)\n",
    "print(OTP)"
   ]
  },
  {
   "cell_type": "code",
   "execution_count": 9,
   "id": "563b06b6",
   "metadata": {},
   "outputs": [],
   "source": [
    "# Exercise 4: Pick a random character from a given String"
   ]
  },
  {
   "cell_type": "code",
   "execution_count": 12,
   "id": "88849f3c",
   "metadata": {},
   "outputs": [
    {
     "name": "stdout",
     "output_type": "stream",
     "text": [
      "Selecting one random character:  i\n"
     ]
    }
   ],
   "source": [
    "string = \"Pynative\"\n",
    "char = random.choice(string)\n",
    "print(\"Selecting one random character: \",char)"
   ]
  },
  {
   "cell_type": "code",
   "execution_count": 13,
   "id": "79d92357",
   "metadata": {},
   "outputs": [],
   "source": [
    "# Exercise 5: Generate random String of length 5"
   ]
  },
  {
   "cell_type": "code",
   "execution_count": 18,
   "id": "223b8494",
   "metadata": {},
   "outputs": [
    {
     "name": "stdout",
     "output_type": "stream",
     "text": [
      "Random string is:  VBBWU\n"
     ]
    }
   ],
   "source": [
    "import string\n",
    "def stringgenerate(stringlength):\n",
    "    letters = string.ascii_letters\n",
    "    return ''.join(random.choice(letters) for i in range(stringlength))\n",
    "print(\"Random string is: \",stringgenerate(5))"
   ]
  },
  {
   "cell_type": "code",
   "execution_count": 19,
   "id": "39e0716e",
   "metadata": {},
   "outputs": [],
   "source": [
    "# Exercise 6: Generate a random Password which meets the following conditions"
   ]
  },
  {
   "cell_type": "code",
   "execution_count": 20,
   "id": "b3d68c18",
   "metadata": {},
   "outputs": [
    {
     "name": "stdout",
     "output_type": "stream",
     "text": [
      "Password is  \"GD9p(Y1L]\n"
     ]
    }
   ],
   "source": [
    "import random\n",
    "import string\n",
    "\n",
    "def randomPassword():\n",
    "    randomSource = string.ascii_letters + string.digits + string.punctuation\n",
    "    password = random.sample(randomSource, 6)\n",
    "    password += random.sample(string.ascii_uppercase, 2)\n",
    "    password += random.choice(string.digits)\n",
    "    password += random.choice(string.punctuation)\n",
    "\n",
    "    passwordList = list(password)\n",
    "    random.SystemRandom().shuffle(passwordList)\n",
    "    password = ''.join(passwordList)\n",
    "    return password\n",
    "\n",
    "print (\"Password is \", randomPassword())"
   ]
  },
  {
   "cell_type": "code",
   "execution_count": 21,
   "id": "b97fdfda",
   "metadata": {},
   "outputs": [],
   "source": [
    "# Exercise 7: Calculate multiplication of two random float numbers"
   ]
  },
  {
   "cell_type": "code",
   "execution_count": 27,
   "id": "39864c7c",
   "metadata": {},
   "outputs": [
    {
     "name": "stdout",
     "output_type": "stream",
     "text": [
      "45.163940172063604\n"
     ]
    }
   ],
   "source": [
    "a = random.random()\n",
    "b = random.uniform(9.5,99.5)\n",
    "multi = a*b\n",
    "print(multi)"
   ]
  },
  {
   "cell_type": "code",
   "execution_count": 28,
   "id": "c060e159",
   "metadata": {},
   "outputs": [],
   "source": [
    "# Exercise 8: Generate random secure token of 64 bytes and random URL"
   ]
  },
  {
   "cell_type": "code",
   "execution_count": 34,
   "id": "13c4e754",
   "metadata": {},
   "outputs": [
    {
     "name": "stdout",
     "output_type": "stream",
     "text": [
      "Random secure token: d6a2ccab8c89e41040e53ea1639532dd4b54347499705078a7484bdd39da4408313b403332af519a2d3a1676f9783fe575bcdca6ce7793e62a9b08e5762fd422\n",
      "Random URL: I3d-iQKIzkIvSD0FLQwefkOots4qihbE38BnqzamAWPxR5ScTv25mf5MLknBMc7qbhiT_Zz08EEookOvEbkmiw\n"
     ]
    }
   ],
   "source": [
    "import secrets\n",
    "print(\"Random secure token:\",secrets.token_hex(64))\n",
    "print(\"Random URL:\",secrets.token_urlsafe(64))"
   ]
  },
  {
   "cell_type": "code",
   "execution_count": 35,
   "id": "40c7e9f8",
   "metadata": {},
   "outputs": [],
   "source": [
    "# Exercise 9: Roll dice in such a way that every time you get the same number"
   ]
  },
  {
   "cell_type": "code",
   "execution_count": 42,
   "id": "5aad0c38",
   "metadata": {},
   "outputs": [
    {
     "name": "stdout",
     "output_type": "stream",
     "text": [
      "Randomly selecting same number of a dice\n",
      "4\n",
      "4\n",
      "4\n",
      "4\n",
      "4\n"
     ]
    }
   ],
   "source": [
    "import random\n",
    "print(\"Randomly selecting same number of a dice\")\n",
    "dice = [1,2,3,4,5,6]\n",
    "for i in range(5):\n",
    "    random.seed(25)\n",
    "    print(random.choice(dice))"
   ]
  },
  {
   "cell_type": "code",
   "execution_count": 43,
   "id": "6d42ff54",
   "metadata": {},
   "outputs": [],
   "source": [
    "# Exercise 10: Generate a random date between given start and end dates"
   ]
  },
  {
   "cell_type": "code",
   "execution_count": 45,
   "id": "68856721",
   "metadata": {},
   "outputs": [
    {
     "name": "stdout",
     "output_type": "stream",
     "text": [
      "Printing random date between 1/1/2016  and  12/12/2018\n",
      "Random Date =  06/26/2018\n"
     ]
    }
   ],
   "source": [
    "import random\n",
    "import time\n",
    "\n",
    "def getRandomDate(startDate, endDate ):\n",
    "    print(\"Printing random date between\", startDate, \" and \", endDate)\n",
    "    randomGenerator = random.random()\n",
    "    dateFormat = '%m/%d/%Y'\n",
    "\n",
    "    startTime = time.mktime(time.strptime(startDate, dateFormat))\n",
    "    endTime = time.mktime(time.strptime(endDate, dateFormat))\n",
    "\n",
    "    randomTime = startTime + randomGenerator * (endTime - startTime)\n",
    "    randomDate = time.strftime(dateFormat, time.localtime(randomTime))\n",
    "    return randomDate\n",
    "\n",
    "print (\"Random Date = \", getRandomDate(\"1/1/2016\", \"12/12/2018\"))\n"
   ]
  },
  {
   "cell_type": "code",
   "execution_count": null,
   "id": "ef7194b9",
   "metadata": {},
   "outputs": [],
   "source": []
  },
  {
   "cell_type": "code",
   "execution_count": null,
   "id": "ab31d6cb",
   "metadata": {},
   "outputs": [],
   "source": []
  }
 ],
 "metadata": {
  "kernelspec": {
   "display_name": "Python 3",
   "language": "python",
   "name": "python3"
  },
  "language_info": {
   "codemirror_mode": {
    "name": "ipython",
    "version": 3
   },
   "file_extension": ".py",
   "mimetype": "text/x-python",
   "name": "python",
   "nbconvert_exporter": "python",
   "pygments_lexer": "ipython3",
   "version": "3.8.8"
  }
 },
 "nbformat": 4,
 "nbformat_minor": 5
}
