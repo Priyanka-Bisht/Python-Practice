{
 "cells": [
  {
   "cell_type": "code",
   "execution_count": 1,
   "id": "c8049b04",
   "metadata": {},
   "outputs": [
    {
     "ename": "TypeError",
     "evalue": "'list' object is not an iterator",
     "output_type": "error",
     "traceback": [
      "\u001b[1;31m---------------------------------------------------------------------------\u001b[0m",
      "\u001b[1;31mTypeError\u001b[0m                                 Traceback (most recent call last)",
      "\u001b[1;32m<ipython-input-1-e082a0a792e2>\u001b[0m in \u001b[0;36m<module>\u001b[1;34m\u001b[0m\n\u001b[0;32m      1\u001b[0m \u001b[0mcities\u001b[0m \u001b[1;33m=\u001b[0m \u001b[1;33m[\u001b[0m\u001b[1;34m\"Delhi\"\u001b[0m\u001b[1;33m,\u001b[0m\u001b[1;34m\"Gurgaon\"\u001b[0m\u001b[1;33m,\u001b[0m\u001b[1;34m\"jaipur\"\u001b[0m\u001b[1;33m,\u001b[0m\u001b[1;34m\"banglore\"\u001b[0m\u001b[1;33m,\u001b[0m\u001b[1;34m\"pune\"\u001b[0m\u001b[1;33m,\u001b[0m\u001b[1;34m\"mumbai\"\u001b[0m\u001b[1;33m]\u001b[0m\u001b[1;33m\u001b[0m\u001b[1;33m\u001b[0m\u001b[0m\n\u001b[1;32m----> 2\u001b[1;33m \u001b[0mnext\u001b[0m\u001b[1;33m(\u001b[0m\u001b[0mcities\u001b[0m\u001b[1;33m)\u001b[0m\u001b[1;33m\u001b[0m\u001b[1;33m\u001b[0m\u001b[0m\n\u001b[0m",
      "\u001b[1;31mTypeError\u001b[0m: 'list' object is not an iterator"
     ]
    }
   ],
   "source": [
    "cities = [\"Delhi\",\"Gurgaon\",\"jaipur\",\"banglore\",\"pune\",\"mumbai\"]\n",
    "next(cities)"
   ]
  },
  {
   "cell_type": "code",
   "execution_count": 9,
   "id": "9945d301",
   "metadata": {},
   "outputs": [
    {
     "data": {
      "text/plain": [
       "'Delhi'"
      ]
     },
     "execution_count": 9,
     "metadata": {},
     "output_type": "execute_result"
    }
   ],
   "source": [
    "cities = [\"Delhi\",\"Gurgaon\",\"jaipur\",\"banglore\",\"pune\",\"mumbai\"]\n",
    "cities1 = iter(cities)\n",
    "next(cities1)"
   ]
  },
  {
   "cell_type": "code",
   "execution_count": 3,
   "id": "f341d5e5",
   "metadata": {},
   "outputs": [
    {
     "data": {
      "text/plain": [
       "'Gurgaon'"
      ]
     },
     "execution_count": 3,
     "metadata": {},
     "output_type": "execute_result"
    }
   ],
   "source": [
    "next(cities1)"
   ]
  },
  {
   "cell_type": "code",
   "execution_count": 4,
   "id": "92ee1b57",
   "metadata": {},
   "outputs": [
    {
     "data": {
      "text/plain": [
       "'jaipur'"
      ]
     },
     "execution_count": 4,
     "metadata": {},
     "output_type": "execute_result"
    }
   ],
   "source": [
    "next(cities1)"
   ]
  },
  {
   "cell_type": "code",
   "execution_count": 5,
   "id": "4202ae63",
   "metadata": {},
   "outputs": [
    {
     "data": {
      "text/plain": [
       "'banglore'"
      ]
     },
     "execution_count": 5,
     "metadata": {},
     "output_type": "execute_result"
    }
   ],
   "source": [
    "next(cities1)"
   ]
  },
  {
   "cell_type": "code",
   "execution_count": 6,
   "id": "d865c184",
   "metadata": {},
   "outputs": [
    {
     "data": {
      "text/plain": [
       "'pune'"
      ]
     },
     "execution_count": 6,
     "metadata": {},
     "output_type": "execute_result"
    }
   ],
   "source": [
    "next(cities1)"
   ]
  },
  {
   "cell_type": "code",
   "execution_count": 7,
   "id": "1849ee5e",
   "metadata": {},
   "outputs": [
    {
     "data": {
      "text/plain": [
       "'mumbai'"
      ]
     },
     "execution_count": 7,
     "metadata": {},
     "output_type": "execute_result"
    }
   ],
   "source": [
    "next(cities1)"
   ]
  },
  {
   "cell_type": "code",
   "execution_count": 10,
   "id": "9c34633d",
   "metadata": {},
   "outputs": [
    {
     "data": {
      "text/plain": [
       "'Gurgaon'"
      ]
     },
     "execution_count": 10,
     "metadata": {},
     "output_type": "execute_result"
    }
   ],
   "source": [
    "next(cities1)"
   ]
  },
  {
   "cell_type": "code",
   "execution_count": 12,
   "id": "a86dca82",
   "metadata": {},
   "outputs": [],
   "source": [
    "f = open(\"priyanka.txt\",\"w\")"
   ]
  },
  {
   "cell_type": "code",
   "execution_count": 13,
   "id": "c2d3d9f1",
   "metadata": {},
   "outputs": [
    {
     "data": {
      "text/plain": [
       "69"
      ]
     },
     "execution_count": 13,
     "metadata": {},
     "output_type": "execute_result"
    }
   ],
   "source": [
    "f.write(\"Hey there, my name is priyanka bisht i am from devbhoomi uttarakhand.\")"
   ]
  },
  {
   "cell_type": "code",
   "execution_count": 14,
   "id": "83fe1733",
   "metadata": {},
   "outputs": [
    {
     "data": {
      "text/plain": [
       "'C:\\\\Users\\\\Dell\\\\Downloads\\\\Ineuron Python\\\\Python-Practice'"
      ]
     },
     "execution_count": 14,
     "metadata": {},
     "output_type": "execute_result"
    }
   ],
   "source": [
    "pwd"
   ]
  },
  {
   "cell_type": "code",
   "execution_count": 15,
   "id": "9db843e6",
   "metadata": {},
   "outputs": [],
   "source": [
    "f.close()"
   ]
  },
  {
   "cell_type": "code",
   "execution_count": 17,
   "id": "793ae221",
   "metadata": {},
   "outputs": [],
   "source": [
    "f = open(\"priyanka.txt\",\"a\")"
   ]
  },
  {
   "cell_type": "code",
   "execution_count": 18,
   "id": "7465be99",
   "metadata": {},
   "outputs": [
    {
     "data": {
      "text/plain": [
       "89"
      ]
     },
     "execution_count": 18,
     "metadata": {},
     "output_type": "execute_result"
    }
   ],
   "source": [
    "f.write(\"i did my schooling from my hometown and have done my graduation from DSB Campus Nainital.\")"
   ]
  },
  {
   "cell_type": "code",
   "execution_count": 19,
   "id": "a22fa2d0",
   "metadata": {},
   "outputs": [],
   "source": [
    "f.close()"
   ]
  },
  {
   "cell_type": "code",
   "execution_count": 23,
   "id": "0e5b8eba",
   "metadata": {},
   "outputs": [],
   "source": [
    "f = open(\"priyanka.txt\",\"r\")"
   ]
  },
  {
   "cell_type": "code",
   "execution_count": 24,
   "id": "40c9ce27",
   "metadata": {},
   "outputs": [
    {
     "data": {
      "text/plain": [
       "'i did my schooling from my hometown and have done my graduation from DSB Campus Nainital.'"
      ]
     },
     "execution_count": 24,
     "metadata": {},
     "output_type": "execute_result"
    }
   ],
   "source": [
    "f.read()"
   ]
  },
  {
   "cell_type": "code",
   "execution_count": 26,
   "id": "765b8f49",
   "metadata": {},
   "outputs": [
    {
     "data": {
      "text/plain": [
       "0"
      ]
     },
     "execution_count": 26,
     "metadata": {},
     "output_type": "execute_result"
    }
   ],
   "source": [
    "f.seek(0)"
   ]
  },
  {
   "cell_type": "code",
   "execution_count": 27,
   "id": "851fcc25",
   "metadata": {},
   "outputs": [
    {
     "data": {
      "text/plain": [
       "'i did my schooling from my hometown and have done my graduation from DSB Campus Nainital.'"
      ]
     },
     "execution_count": 27,
     "metadata": {},
     "output_type": "execute_result"
    }
   ],
   "source": [
    "f.read()"
   ]
  },
  {
   "cell_type": "code",
   "execution_count": 28,
   "id": "f34384d2",
   "metadata": {},
   "outputs": [
    {
     "data": {
      "text/plain": [
       "''"
      ]
     },
     "execution_count": 28,
     "metadata": {},
     "output_type": "execute_result"
    }
   ],
   "source": [
    "f.read()"
   ]
  },
  {
   "cell_type": "code",
   "execution_count": 29,
   "id": "f6104484",
   "metadata": {},
   "outputs": [
    {
     "data": {
      "text/plain": [
       "0"
      ]
     },
     "execution_count": 29,
     "metadata": {},
     "output_type": "execute_result"
    }
   ],
   "source": [
    "f.seek(0)"
   ]
  },
  {
   "cell_type": "code",
   "execution_count": 30,
   "id": "614887b0",
   "metadata": {},
   "outputs": [
    {
     "data": {
      "text/plain": [
       "'i did my schooling from my hometown and have done my graduation from DSB Campus Nainital.'"
      ]
     },
     "execution_count": 30,
     "metadata": {},
     "output_type": "execute_result"
    }
   ],
   "source": [
    "f.read()"
   ]
  },
  {
   "cell_type": "code",
   "execution_count": 31,
   "id": "240e028a",
   "metadata": {},
   "outputs": [
    {
     "data": {
      "text/plain": [
       "89"
      ]
     },
     "execution_count": 31,
     "metadata": {},
     "output_type": "execute_result"
    }
   ],
   "source": [
    "f.tell()"
   ]
  },
  {
   "cell_type": "code",
   "execution_count": 32,
   "id": "7580cf09",
   "metadata": {},
   "outputs": [
    {
     "data": {
      "text/plain": [
       "''"
      ]
     },
     "execution_count": 32,
     "metadata": {},
     "output_type": "execute_result"
    }
   ],
   "source": [
    "f.read()"
   ]
  },
  {
   "cell_type": "code",
   "execution_count": 33,
   "id": "632b79ca",
   "metadata": {},
   "outputs": [
    {
     "data": {
      "text/plain": [
       "0"
      ]
     },
     "execution_count": 33,
     "metadata": {},
     "output_type": "execute_result"
    }
   ],
   "source": [
    "f.seek(0)"
   ]
  },
  {
   "cell_type": "code",
   "execution_count": 34,
   "id": "de198b99",
   "metadata": {},
   "outputs": [
    {
     "data": {
      "text/plain": [
       "'i did my schooling from my hometown and have done my graduation from DSB Campus Nainital.'"
      ]
     },
     "execution_count": 34,
     "metadata": {},
     "output_type": "execute_result"
    }
   ],
   "source": [
    "f.read()"
   ]
  },
  {
   "cell_type": "code",
   "execution_count": 38,
   "id": "6ae63fd6",
   "metadata": {},
   "outputs": [],
   "source": [
    "f = open(\"priyanka.txt\",\"w+\")"
   ]
  },
  {
   "cell_type": "code",
   "execution_count": 39,
   "id": "94a478fe",
   "metadata": {},
   "outputs": [
    {
     "data": {
      "text/plain": [
       "289"
      ]
     },
     "execution_count": 39,
     "metadata": {},
     "output_type": "execute_result"
    }
   ],
   "source": [
    "f.write(\"my guruji name is vivek balodi,my guruji name is vivek balodi.,my guruji name is vivek balodi.,my guruji name is vivek balodi.,my guruji name is vivek balodi.,my guruji name is vivek balodi.,my guruji name is vivek balodi.,my guruji name is vivek balodi.,my guruji name is vivek balodi.,v,\")"
   ]
  },
  {
   "cell_type": "code",
   "execution_count": 40,
   "id": "106c9b15",
   "metadata": {},
   "outputs": [
    {
     "data": {
      "text/plain": [
       "''"
      ]
     },
     "execution_count": 40,
     "metadata": {},
     "output_type": "execute_result"
    }
   ],
   "source": [
    "f.readline()"
   ]
  },
  {
   "cell_type": "code",
   "execution_count": 41,
   "id": "d9eef3ba",
   "metadata": {},
   "outputs": [
    {
     "data": {
      "text/plain": [
       "0"
      ]
     },
     "execution_count": 41,
     "metadata": {},
     "output_type": "execute_result"
    }
   ],
   "source": [
    "f.seek(0)"
   ]
  },
  {
   "cell_type": "code",
   "execution_count": 42,
   "id": "852e798d",
   "metadata": {},
   "outputs": [
    {
     "data": {
      "text/plain": [
       "'my guruji name is vivek balodi,my guruji name is vivek balodi.,my guruji name is vivek balodi.,my guruji name is vivek balodi.,my guruji name is vivek balodi.,my guruji name is vivek balodi.,my guruji name is vivek balodi.,my guruji name is vivek balodi.,my guruji name is vivek balodi.,v,'"
      ]
     },
     "execution_count": 42,
     "metadata": {},
     "output_type": "execute_result"
    }
   ],
   "source": [
    "f.readline()"
   ]
  },
  {
   "cell_type": "code",
   "execution_count": 46,
   "id": "7fd71018",
   "metadata": {},
   "outputs": [],
   "source": [
    "f.close()"
   ]
  },
  {
   "cell_type": "code",
   "execution_count": 123,
   "id": "ddce9eae",
   "metadata": {},
   "outputs": [],
   "source": [
    "f = open(\"priyanka.txt\",\"w+\")"
   ]
  },
  {
   "cell_type": "code",
   "execution_count": 124,
   "id": "575a6be3",
   "metadata": {},
   "outputs": [
    {
     "data": {
      "text/plain": [
       "138"
      ]
     },
     "execution_count": 124,
     "metadata": {},
     "output_type": "execute_result"
    }
   ],
   "source": [
    "f.write(\"\"\"I am a student of Full Stack Data Science,\n",
    "Sudhanshu sir taught us Python Programming.,\n",
    "Krish naik is going to teach us Statistics and ML.\"\"\")"
   ]
  },
  {
   "cell_type": "code",
   "execution_count": 125,
   "id": "ea7c3571",
   "metadata": {},
   "outputs": [
    {
     "data": {
      "text/plain": [
       "[]"
      ]
     },
     "execution_count": 125,
     "metadata": {},
     "output_type": "execute_result"
    }
   ],
   "source": [
    "f.readlines()"
   ]
  },
  {
   "cell_type": "code",
   "execution_count": 127,
   "id": "a958b901",
   "metadata": {},
   "outputs": [
    {
     "data": {
      "text/plain": [
       "5"
      ]
     },
     "execution_count": 127,
     "metadata": {},
     "output_type": "execute_result"
    }
   ],
   "source": [
    "f.seek(5)"
   ]
  },
  {
   "cell_type": "code",
   "execution_count": 128,
   "id": "c5a1ed88",
   "metadata": {},
   "outputs": [
    {
     "data": {
      "text/plain": [
       "['a student of Full Stack Data Science,\\n',\n",
       " 'Sudhanshu sir taught us Python Programming.,\\n',\n",
       " 'Krish naik is going to teach us Statistics and ML.']"
      ]
     },
     "execution_count": 128,
     "metadata": {},
     "output_type": "execute_result"
    }
   ],
   "source": [
    "f.readlines()"
   ]
  },
  {
   "cell_type": "code",
   "execution_count": 52,
   "id": "40290075",
   "metadata": {},
   "outputs": [
    {
     "data": {
      "text/plain": [
       "True"
      ]
     },
     "execution_count": 52,
     "metadata": {},
     "output_type": "execute_result"
    }
   ],
   "source": [
    "f.readable()"
   ]
  },
  {
   "cell_type": "code",
   "execution_count": 53,
   "id": "05f8fb4d",
   "metadata": {},
   "outputs": [],
   "source": [
    "f.reconfigure()"
   ]
  },
  {
   "cell_type": "code",
   "execution_count": 54,
   "id": "eeea7789",
   "metadata": {},
   "outputs": [],
   "source": [
    "f.close()"
   ]
  },
  {
   "cell_type": "code",
   "execution_count": 56,
   "id": "feb4ab26",
   "metadata": {},
   "outputs": [],
   "source": [
    "f = open(\"priyanka.txt\",\"a\")"
   ]
  },
  {
   "cell_type": "code",
   "execution_count": 58,
   "id": "2f206dc4",
   "metadata": {},
   "outputs": [
    {
     "data": {
      "text/plain": [
       "5"
      ]
     },
     "execution_count": 58,
     "metadata": {},
     "output_type": "execute_result"
    }
   ],
   "source": [
    "f.write(\"hanji\")"
   ]
  },
  {
   "cell_type": "code",
   "execution_count": 59,
   "id": "d344be6c",
   "metadata": {},
   "outputs": [],
   "source": [
    "f.close()"
   ]
  },
  {
   "cell_type": "code",
   "execution_count": 60,
   "id": "8dd3c2dc",
   "metadata": {},
   "outputs": [],
   "source": [
    "f = open(\"priyanka.txt\",\"a\")"
   ]
  },
  {
   "cell_type": "code",
   "execution_count": 61,
   "id": "18b8ef4e",
   "metadata": {},
   "outputs": [
    {
     "data": {
      "text/plain": [
       "36"
      ]
     },
     "execution_count": 61,
     "metadata": {},
     "output_type": "execute_result"
    }
   ],
   "source": [
    "f.write(\"\\n Just checking for append operation\")"
   ]
  },
  {
   "cell_type": "code",
   "execution_count": 62,
   "id": "a4d8a0ce",
   "metadata": {},
   "outputs": [],
   "source": [
    "f.close()"
   ]
  },
  {
   "cell_type": "markdown",
   "id": "eaf6ca52",
   "metadata": {},
   "source": [
    "# map,filter,reduce"
   ]
  },
  {
   "cell_type": "code",
   "execution_count": 1,
   "id": "40424d36",
   "metadata": {},
   "outputs": [],
   "source": [
    "def add(x,y):\n",
    "    return x+y"
   ]
  },
  {
   "cell_type": "code",
   "execution_count": 3,
   "id": "7066fc16",
   "metadata": {},
   "outputs": [
    {
     "data": {
      "text/plain": [
       "13"
      ]
     },
     "execution_count": 3,
     "metadata": {},
     "output_type": "execute_result"
    }
   ],
   "source": [
    "add (8,5)"
   ]
  },
  {
   "cell_type": "code",
   "execution_count": 4,
   "id": "8ecda163",
   "metadata": {},
   "outputs": [],
   "source": [
    "# using lambda\n",
    "\n",
    "a = lambda x,y:x+y"
   ]
  },
  {
   "cell_type": "code",
   "execution_count": 5,
   "id": "d1fc004e",
   "metadata": {},
   "outputs": [
    {
     "data": {
      "text/plain": [
       "9"
      ]
     },
     "execution_count": 5,
     "metadata": {},
     "output_type": "execute_result"
    }
   ],
   "source": [
    "a(4,5)"
   ]
  },
  {
   "cell_type": "code",
   "execution_count": 48,
   "id": "a960514d",
   "metadata": {},
   "outputs": [],
   "source": [
    "# map\n",
    "  "
   ]
  },
  {
   "cell_type": "code",
   "execution_count": 46,
   "id": "247f0984",
   "metadata": {},
   "outputs": [],
   "source": [
    "l = [1,2,3,4,5,6,7,8,9]\n"
   ]
  },
  {
   "cell_type": "code",
   "execution_count": 83,
   "id": "2c47cccd",
   "metadata": {},
   "outputs": [
    {
     "name": "stdout",
     "output_type": "stream",
     "text": [
      "[2, 4, 6, 8, 10, 12]\n"
     ]
    }
   ],
   "source": [
    "doubled_num = [2*i for i in l]\n",
    " \n",
    "print(doubled_num)\n",
    "\n",
    "#output\n",
    "#[0, 2, 4, 6, 8, 10, 12, 14, 16, 18]"
   ]
  },
  {
   "cell_type": "code",
   "execution_count": 84,
   "id": "1ed57eea",
   "metadata": {},
   "outputs": [],
   "source": [
    "# for i in l:\n",
    "#     m = 2*i\n",
    "# print(l)"
   ]
  },
  {
   "cell_type": "code",
   "execution_count": 86,
   "id": "f01656a4",
   "metadata": {},
   "outputs": [
    {
     "name": "stdout",
     "output_type": "stream",
     "text": [
      "[2, 4, 6, 8, 10, 12]\n"
     ]
    }
   ],
   "source": [
    "def doubled(x):\n",
    "    return 2*x\n",
    " \n",
    "doubled_num = map(doubled, l)\n",
    " \n",
    "print(list(doubled_num))"
   ]
  },
  {
   "cell_type": "code",
   "execution_count": 87,
   "id": "cc6b12ca",
   "metadata": {},
   "outputs": [],
   "source": [
    "doubled_num = map(lambda x:x*2, l)"
   ]
  },
  {
   "cell_type": "code",
   "execution_count": 89,
   "id": "30696d85",
   "metadata": {},
   "outputs": [
    {
     "name": "stdout",
     "output_type": "stream",
     "text": [
      "[2, 4, 6, 8, 10, 12]\n"
     ]
    }
   ],
   "source": [
    "print(list(doubled_num))"
   ]
  },
  {
   "cell_type": "code",
   "execution_count": 90,
   "id": "3864a879",
   "metadata": {},
   "outputs": [],
   "source": [
    "x = [1,2,3]\n",
    "y = [4,5,6]\n",
    "z = [7,8,9]\n",
    "s = map(lambda x,y,z:x+y+z,x,y,z)"
   ]
  },
  {
   "cell_type": "code",
   "execution_count": 91,
   "id": "c8cea445",
   "metadata": {},
   "outputs": [
    {
     "name": "stdout",
     "output_type": "stream",
     "text": [
      "[12, 15, 18]\n"
     ]
    }
   ],
   "source": [
    "print(list(s))"
   ]
  },
  {
   "cell_type": "code",
   "execution_count": 100,
   "id": "6af1d55a",
   "metadata": {},
   "outputs": [],
   "source": [
    "# Filter"
   ]
  },
  {
   "cell_type": "code",
   "execution_count": 95,
   "id": "06b78748",
   "metadata": {},
   "outputs": [
    {
     "name": "stdout",
     "output_type": "stream",
     "text": [
      "Odd\n",
      "even\n",
      "Odd\n",
      "even\n",
      "Odd\n",
      "even\n"
     ]
    }
   ],
   "source": [
    "for i in l:\n",
    "    if i % 2 != 0:\n",
    "        print(\"Odd\")\n",
    "    else: \n",
    "        print(\"even\")"
   ]
  },
  {
   "cell_type": "code",
   "execution_count": 93,
   "id": "2696dd4a",
   "metadata": {},
   "outputs": [
    {
     "data": {
      "text/plain": [
       "[1, 2, 3, 4, 5, 6]"
      ]
     },
     "execution_count": 93,
     "metadata": {},
     "output_type": "execute_result"
    }
   ],
   "source": [
    "l"
   ]
  },
  {
   "cell_type": "code",
   "execution_count": 104,
   "id": "13141bf4",
   "metadata": {},
   "outputs": [
    {
     "name": "stdout",
     "output_type": "stream",
     "text": [
      "[1, 3, 5]\n"
     ]
    }
   ],
   "source": [
    "odd_num = filter(lambda x: x % 2, l)\n",
    " \n",
    "print(list(odd_num))\n",
    "\n",
    "#output\n",
    "#[1, 3, 5, 7, 9]"
   ]
  },
  {
   "cell_type": "code",
   "execution_count": 107,
   "id": "ccb674a9",
   "metadata": {},
   "outputs": [
    {
     "name": "stdout",
     "output_type": "stream",
     "text": [
      "[1, 3, 5]\n"
     ]
    }
   ],
   "source": [
    "odd_num = [n for n in l if n % 2]\n",
    " \n",
    "print(odd_num)\n",
    "\n",
    "#output\n",
    "#[1, 3, 5, 7, 9]"
   ]
  },
  {
   "cell_type": "code",
   "execution_count": 106,
   "id": "c0639018",
   "metadata": {},
   "outputs": [
    {
     "name": "stdout",
     "output_type": "stream",
     "text": [
      "[2, 4, 6]\n"
     ]
    }
   ],
   "source": [
    "odd_num = [n for n in l if n % 2 == 0]\n",
    " \n",
    "print(odd_num)\n",
    "\n",
    "#output\n",
    "#[1, 3, 5, 7, 9]"
   ]
  },
  {
   "cell_type": "code",
   "execution_count": 109,
   "id": "7fa0353f",
   "metadata": {},
   "outputs": [
    {
     "name": "stdout",
     "output_type": "stream",
     "text": [
      "True\n",
      "True\n",
      "True\n",
      "True\n",
      "True\n",
      "True\n"
     ]
    }
   ],
   "source": [
    "for i in l:\n",
    "    print(i in l)"
   ]
  },
  {
   "cell_type": "code",
   "execution_count": 110,
   "id": "5692c20c",
   "metadata": {},
   "outputs": [
    {
     "name": "stdout",
     "output_type": "stream",
     "text": [
      "[True, True, True, True, True, True]\n"
     ]
    }
   ],
   "source": [
    "bool = [i in l for i in l]\n",
    "print(list(bool))"
   ]
  },
  {
   "cell_type": "code",
   "execution_count": 115,
   "id": "9151128b",
   "metadata": {},
   "outputs": [
    {
     "name": "stdout",
     "output_type": "stream",
     "text": [
      "[1, 2, 3, 4, 5, 6]\n"
     ]
    }
   ],
   "source": [
    "g = filter(lambda i : i in l,l)\n",
    "print(list(g))"
   ]
  },
  {
   "cell_type": "code",
   "execution_count": 116,
   "id": "46c3dcac",
   "metadata": {},
   "outputs": [],
   "source": [
    "# Reduce"
   ]
  },
  {
   "cell_type": "code",
   "execution_count": 118,
   "id": "429ed416",
   "metadata": {},
   "outputs": [],
   "source": [
    "from functools import reduce"
   ]
  },
  {
   "cell_type": "code",
   "execution_count": 120,
   "id": "540e66d9",
   "metadata": {},
   "outputs": [
    {
     "name": "stdout",
     "output_type": "stream",
     "text": [
      "193\n"
     ]
    }
   ],
   "source": [
    "num = [45,85,23,25,15]\n",
    "def custom_sum(first,second):\n",
    "    return first + second\n",
    "        \n",
    "result = reduce(custom_sum,num)\n",
    "print(result)"
   ]
  },
  {
   "cell_type": "code",
   "execution_count": 122,
   "id": "1ec61ca4",
   "metadata": {},
   "outputs": [
    {
     "name": "stdout",
     "output_type": "stream",
     "text": [
      "203\n"
     ]
    }
   ],
   "source": [
    "result1 = reduce(custom_sum,num,10)\n",
    "print(result1)"
   ]
  },
  {
   "cell_type": "code",
   "execution_count": null,
   "id": "9bd9aa32",
   "metadata": {},
   "outputs": [],
   "source": []
  }
 ],
 "metadata": {
  "kernelspec": {
   "display_name": "Python 3",
   "language": "python",
   "name": "python3"
  },
  "language_info": {
   "codemirror_mode": {
    "name": "ipython",
    "version": 3
   },
   "file_extension": ".py",
   "mimetype": "text/x-python",
   "name": "python",
   "nbconvert_exporter": "python",
   "pygments_lexer": "ipython3",
   "version": "3.8.8"
  }
 },
 "nbformat": 4,
 "nbformat_minor": 5
}
