{
 "cells": [
  {
   "cell_type": "code",
   "execution_count": 1,
   "id": "df0a2019",
   "metadata": {},
   "outputs": [],
   "source": [
    "#Q1. Print current date and time"
   ]
  },
  {
   "cell_type": "code",
   "execution_count": 4,
   "id": "c15376ff",
   "metadata": {},
   "outputs": [
    {
     "name": "stdout",
     "output_type": "stream",
     "text": [
      "2022-08-31 21:50:22.244255\n",
      "21:50:22.244255\n"
     ]
    }
   ],
   "source": [
    "import datetime\n",
    "# print date and time\n",
    "print(datetime.datetime.now())\n",
    "\n",
    "# print only time\n",
    "print(datetime.datetime.now().time())"
   ]
  },
  {
   "cell_type": "code",
   "execution_count": 5,
   "id": "31c180cb",
   "metadata": {},
   "outputs": [
    {
     "name": "stdout",
     "output_type": "stream",
     "text": [
      "2022-08-31 16:22:26\n"
     ]
    }
   ],
   "source": [
    "# another method \n",
    "\n",
    "from time import gmtime, strftime\n",
    "print(strftime(\"%Y-%m-%d %H:%M:%S\",gmtime()))"
   ]
  },
  {
   "cell_type": "code",
   "execution_count": 6,
   "id": "9b088935",
   "metadata": {},
   "outputs": [],
   "source": [
    "#Q2. Convert string into a datetime object"
   ]
  },
  {
   "cell_type": "code",
   "execution_count": 7,
   "id": "1c8027a5",
   "metadata": {},
   "outputs": [
    {
     "name": "stdout",
     "output_type": "stream",
     "text": [
      "2020-02-25 16:20:00\n"
     ]
    }
   ],
   "source": [
    "from datetime import datetime\n",
    "date_string = \"Feb 25 2020 4:20PM\"\n",
    "datetime_object = datetime.strptime(date_string, '%b %d %Y %I:%M%p')\n",
    "print(datetime_object)"
   ]
  },
  {
   "cell_type": "code",
   "execution_count": 8,
   "id": "88468fc4",
   "metadata": {},
   "outputs": [],
   "source": [
    "#Q3. Subtract a week (7 days)  from a given date in Python"
   ]
  },
  {
   "cell_type": "code",
   "execution_count": 10,
   "id": "1d6c1bf8",
   "metadata": {},
   "outputs": [
    {
     "name": "stdout",
     "output_type": "stream",
     "text": [
      "2020-02-18 00:00:00\n"
     ]
    }
   ],
   "source": [
    "from datetime import datetime, timedelta\n",
    "given_date = datetime(2020, 2, 25)\n",
    "days_to_subtract = 7\n",
    "new_date = given_date - timedelta(days=days_to_subtract)\n",
    "print(new_date)"
   ]
  },
  {
   "cell_type": "code",
   "execution_count": 11,
   "id": "d98c9c79",
   "metadata": {},
   "outputs": [],
   "source": [
    "#Q4. Print a date in the following format"
   ]
  },
  {
   "cell_type": "code",
   "execution_count": 14,
   "id": "ab60cd67",
   "metadata": {},
   "outputs": [
    {
     "name": "stdout",
     "output_type": "stream",
     "text": [
      "Saturday 25 October 1997\n"
     ]
    }
   ],
   "source": [
    "from datetime import datetime\n",
    "given_date = datetime(1997, 10, 25)\n",
    "print(given_date.strftime('%A %d %B %Y'))"
   ]
  },
  {
   "cell_type": "code",
   "execution_count": 15,
   "id": "8aadaf71",
   "metadata": {},
   "outputs": [],
   "source": [
    "#Q5. find the day of the week of a given date"
   ]
  },
  {
   "cell_type": "code",
   "execution_count": 16,
   "id": "2e66f7aa",
   "metadata": {},
   "outputs": [
    {
     "name": "stdout",
     "output_type": "stream",
     "text": [
      "Sunday\n"
     ]
    }
   ],
   "source": [
    "from datetime import datetime\n",
    "given_date = datetime(2020, 7, 26)\n",
    "print(given_date.strftime('%A'))"
   ]
  },
  {
   "cell_type": "code",
   "execution_count": 21,
   "id": "8b75ae76",
   "metadata": {},
   "outputs": [
    {
     "name": "stdout",
     "output_type": "stream",
     "text": [
      "Sunday\n"
     ]
    }
   ],
   "source": [
    "# using calender module\n",
    "import calendar\n",
    "from datetime import datetime\n",
    "given_date = datetime(2020, 7, 26)\n",
    "weekday = calendar.day_name[given_date.weekday()]\n",
    "print(weekday)"
   ]
  },
  {
   "cell_type": "code",
   "execution_count": 22,
   "id": "9bccf166",
   "metadata": {},
   "outputs": [],
   "source": [
    "#Q6. Add a week (7 days) and 12 hours to a given date"
   ]
  },
  {
   "cell_type": "code",
   "execution_count": 23,
   "id": "5e54bb3d",
   "metadata": {},
   "outputs": [
    {
     "name": "stdout",
     "output_type": "stream",
     "text": [
      "2020-03-29 22:00:00\n"
     ]
    }
   ],
   "source": [
    "from datetime import datetime, timedelta\n",
    "given_date = datetime(2020, 3, 22, 10, 00, 00)\n",
    "days_to_add = 7\n",
    "new_date = given_date + timedelta(days=days_to_add,hours=12)\n",
    "print(new_date)"
   ]
  },
  {
   "cell_type": "code",
   "execution_count": 24,
   "id": "a85abca4",
   "metadata": {},
   "outputs": [],
   "source": [
    "#Q7. print current time in milliseconds"
   ]
  },
  {
   "cell_type": "code",
   "execution_count": 25,
   "id": "5f74a402",
   "metadata": {},
   "outputs": [
    {
     "name": "stdout",
     "output_type": "stream",
     "text": [
      "1661964626287\n"
     ]
    }
   ],
   "source": [
    "import time\n",
    "milliseconds = int(round(time.time()*1000))\n",
    "print(milliseconds)"
   ]
  },
  {
   "cell_type": "code",
   "execution_count": 27,
   "id": "30c7c6b6",
   "metadata": {},
   "outputs": [
    {
     "name": "stdout",
     "output_type": "stream",
     "text": [
      "1661964679747\n"
     ]
    }
   ],
   "source": [
    "import time\n",
    "\n",
    "milliseconds = int(round(time.time() * 1000))\n",
    "print(milliseconds)"
   ]
  },
  {
   "cell_type": "code",
   "execution_count": 1,
   "id": "fa496318",
   "metadata": {},
   "outputs": [],
   "source": [
    "#Q8. Convert the following datetime into a string"
   ]
  },
  {
   "cell_type": "code",
   "execution_count": 2,
   "id": "bebe6937",
   "metadata": {},
   "outputs": [
    {
     "name": "stdout",
     "output_type": "stream",
     "text": [
      "2020-02-25 00:00:00\n"
     ]
    }
   ],
   "source": [
    "from datetime import datetime\n",
    "given_date = datetime(2020, 2, 25)\n",
    "string_date = given_date.strftime(\"%Y-%m-%d %H:%M:%S\")\n",
    "print(string_date)"
   ]
  },
  {
   "cell_type": "code",
   "execution_count": 3,
   "id": "e12515d7",
   "metadata": {},
   "outputs": [],
   "source": [
    "#Q9. Calculate the date 4 months from the current date"
   ]
  },
  {
   "cell_type": "code",
   "execution_count": 5,
   "id": "1f1f84f9",
   "metadata": {},
   "outputs": [
    {
     "name": "stdout",
     "output_type": "stream",
     "text": [
      "2020-06-25\n"
     ]
    }
   ],
   "source": [
    "from datetime import datetime\n",
    "from dateutil.relativedelta import relativedelta\n",
    "\n",
    "given_date = datetime(2020, 2, 25).date()\n",
    "months_to_add = 4\n",
    "current_date = given_date + relativedelta(months =+ months_to_add)\n",
    "print(current_date)"
   ]
  },
  {
   "cell_type": "code",
   "execution_count": 6,
   "id": "57942cf5",
   "metadata": {},
   "outputs": [],
   "source": [
    "#Q10. Calculate number of days between two given dates"
   ]
  },
  {
   "cell_type": "code",
   "execution_count": 7,
   "id": "22644626",
   "metadata": {},
   "outputs": [
    {
     "name": "stdout",
     "output_type": "stream",
     "text": [
      "date_2 is greater\n",
      "Difference is 205 days\n"
     ]
    }
   ],
   "source": [
    "from datetime import datetime\n",
    "\n",
    "# 2020-02-25\n",
    "date_1 = datetime(2020, 2, 25).date()\n",
    "# 2020-09-17\n",
    "date_2 = datetime(2020, 9, 17).date()\n",
    "\n",
    "delta = None\n",
    "if date_1 > date_2:\n",
    "    print(\"date_1 is greater\")\n",
    "    delta = date_1 - date_2\n",
    "else:\n",
    "    print(\"date_2 is greater\")\n",
    "    delta = date_2 - date_1\n",
    "print(\"Difference is\", delta.days, \"days\")"
   ]
  },
  {
   "cell_type": "code",
   "execution_count": null,
   "id": "e82edaa8",
   "metadata": {},
   "outputs": [],
   "source": []
  }
 ],
 "metadata": {
  "kernelspec": {
   "display_name": "Python 3",
   "language": "python",
   "name": "python3"
  },
  "language_info": {
   "codemirror_mode": {
    "name": "ipython",
    "version": 3
   },
   "file_extension": ".py",
   "mimetype": "text/x-python",
   "name": "python",
   "nbconvert_exporter": "python",
   "pygments_lexer": "ipython3",
   "version": "3.8.8"
  }
 },
 "nbformat": 4,
 "nbformat_minor": 5
}
