{
 "cells": [
  {
   "cell_type": "code",
   "execution_count": 3,
   "id": "c27363e2",
   "metadata": {},
   "outputs": [
    {
     "name": "stdout",
     "output_type": "stream",
     "text": [
      "2\n",
      "4\n",
      "6\n",
      "8\n",
      "10\n",
      "12\n",
      "14\n",
      "16\n",
      "18\n",
      "20\n"
     ]
    }
   ],
   "source": [
    "# First 10 Even numbers\n",
    "n = 2\n",
    "while n <= 20:\n",
    "    print(n)\n",
    "    n = n+2"
   ]
  },
  {
   "cell_type": "code",
   "execution_count": 4,
   "id": "a24e4f88",
   "metadata": {},
   "outputs": [
    {
     "name": "stdout",
     "output_type": "stream",
     "text": [
      "1\n",
      "3\n",
      "5\n",
      "7\n",
      "9\n",
      "11\n",
      "13\n",
      "15\n",
      "17\n",
      "19\n"
     ]
    }
   ],
   "source": [
    "# First 10 Odd numbers\n",
    "n = 1\n",
    "while n <= 20:\n",
    "    print(n)\n",
    "    n = n+2"
   ]
  },
  {
   "cell_type": "code",
   "execution_count": 5,
   "id": "c4a69c6f",
   "metadata": {},
   "outputs": [
    {
     "name": "stdout",
     "output_type": "stream",
     "text": [
      "1\n",
      "2\n",
      "3\n",
      "4\n",
      "5\n",
      "6\n",
      "7\n",
      "8\n",
      "9\n",
      "10\n"
     ]
    }
   ],
   "source": [
    "# First 10 Natural numbers\n",
    "n = 1\n",
    "while n <= 10:\n",
    "    print(n)\n",
    "    n = n+1"
   ]
  },
  {
   "cell_type": "code",
   "execution_count": 6,
   "id": "595cdf3b",
   "metadata": {},
   "outputs": [
    {
     "name": "stdout",
     "output_type": "stream",
     "text": [
      "0\n",
      "1\n",
      "2\n",
      "3\n",
      "4\n",
      "5\n",
      "6\n",
      "7\n",
      "8\n",
      "9\n",
      "10\n"
     ]
    }
   ],
   "source": [
    "# First 10 Whole numbers\n",
    "n = 0\n",
    "while n <= 10:\n",
    "    print(n)\n",
    "    n = n+1"
   ]
  },
  {
   "cell_type": "code",
   "execution_count": 28,
   "id": "99be7eac",
   "metadata": {},
   "outputs": [
    {
     "name": "stdout",
     "output_type": "stream",
     "text": [
      "Numbers\t\tSquares\n",
      "1 \t\t 1\n",
      "2 \t\t 4\n",
      "3 \t\t 9\n",
      "4 \t\t 16\n",
      "5 \t\t 25\n",
      "6 \t\t 36\n",
      "7 \t\t 49\n",
      "8 \t\t 64\n",
      "9 \t\t 81\n",
      "10 \t\t 100\n"
     ]
    }
   ],
   "source": [
    "# Write a program to print first 10 integers and their squares using while loop.\n",
    "n = 1\n",
    "print(\"Numbers\\t\\tSquares\")\n",
    "while n <= 10:\n",
    "    print(n,\"\\t\\t\",n**2)\n",
    "    n = n+1 \n",
    "  \n"
   ]
  },
  {
   "cell_type": "code",
   "execution_count": 33,
   "id": "463ba473",
   "metadata": {},
   "outputs": [
    {
     "name": "stdout",
     "output_type": "stream",
     "text": [
      "10,20,30,40,50,60,70,80,90,100,110,120,130,140,150,160,170,180,190,200,210,220,230,240,250,260,270,280,290,300,"
     ]
    }
   ],
   "source": [
    "#  Write for loop statement to print the following series:\n",
    "#  10, 20, 30 … … 300\n",
    "\n",
    "a = 10\n",
    "while a <= 300:\n",
    "    print(a,end=\",\")\n",
    "    a += 10"
   ]
  },
  {
   "cell_type": "code",
   "execution_count": 34,
   "id": "f1e86695",
   "metadata": {},
   "outputs": [
    {
     "name": "stdout",
     "output_type": "stream",
     "text": [
      "105,98,91,84,77,70,63,56,49,42,35,28,21,14,7,"
     ]
    }
   ],
   "source": [
    "# Write a while loop statement to print the following series\n",
    "# 105, 98, 91 ………7.\n",
    "\n",
    "a = 105\n",
    "while a >= 7:\n",
    "    print(a,end=\",\")\n",
    "    a -= 7"
   ]
  },
  {
   "cell_type": "code",
   "execution_count": 36,
   "id": "e045658b",
   "metadata": {},
   "outputs": [
    {
     "name": "stdout",
     "output_type": "stream",
     "text": [
      "10\n",
      "9\n",
      "8\n",
      "7\n",
      "6\n",
      "5\n",
      "4\n",
      "3\n",
      "2\n",
      "1\n"
     ]
    }
   ],
   "source": [
    "#Write a program to print first 10 natural number in reverse order using while loop.\n",
    "\n",
    "a = 10\n",
    "while a >= 1:\n",
    "    print(a)\n",
    "    a -= 1"
   ]
  },
  {
   "cell_type": "code",
   "execution_count": 46,
   "id": "c0d41d41",
   "metadata": {},
   "outputs": [
    {
     "name": "stdout",
     "output_type": "stream",
     "text": [
      "9+8+7+6+5+4+3+2+1+0+ = 55\n"
     ]
    }
   ],
   "source": [
    "# Write a program to print sum of first 10 Natural numbers.\n",
    "n = 10\n",
    "sum = 0\n",
    "while n >= 1:\n",
    "    sum += n\n",
    "    n -= 1\n",
    "    print(n,end=\"+\")\n",
    "print(' =',sum)\n",
    "    \n",
    "    "
   ]
  },
  {
   "cell_type": "code",
   "execution_count": 55,
   "id": "cdd3fb73",
   "metadata": {},
   "outputs": [
    {
     "name": "stdout",
     "output_type": "stream",
     "text": [
      "4+6+8+10+12+14+16+18+20+22+= 110\n"
     ]
    }
   ],
   "source": [
    "# Write a program to print sum of first 10 Even numbers.\n",
    "\n",
    "a = 2\n",
    "sum = 0\n",
    "while a <= 20:\n",
    "    sum += a\n",
    "    a += 2\n",
    "    print(a,end=\"+\")\n",
    "print(\"=\",sum)"
   ]
  },
  {
   "cell_type": "code",
   "execution_count": 58,
   "id": "af870edd",
   "metadata": {},
   "outputs": [
    {
     "name": "stdout",
     "output_type": "stream",
     "text": [
      "enter a number : 11\n",
      "11 * 1 = 11\n",
      "11 * 2 = 22\n",
      "11 * 3 = 33\n",
      "11 * 4 = 44\n",
      "11 * 5 = 55\n",
      "11 * 6 = 66\n",
      "11 * 7 = 77\n",
      "11 * 8 = 88\n",
      "11 * 9 = 99\n",
      "11 * 10 = 110\n"
     ]
    }
   ],
   "source": [
    "# Write a program to print table of a number entered from the user.\n",
    "i = 1\n",
    "num = int(input(\"enter a number : \"))\n",
    "while i <= 10:\n",
    "    print(num, \"*\" , i ,\"=\", num*i)\n",
    "    i += 1"
   ]
  },
  {
   "cell_type": "code",
   "execution_count": 60,
   "id": "d7bc2293",
   "metadata": {},
   "outputs": [
    {
     "name": "stdout",
     "output_type": "stream",
     "text": [
      "enter a number : 2\n",
      "enter a number : 10\n",
      "2\n",
      "4\n",
      "6\n",
      "8\n"
     ]
    }
   ],
   "source": [
    "# Write a program to find the sum of all even numbers that falls between two numbers (exclusive both numbers) entered from the user using while loop.\n",
    "num1 = int(input(\"enter a number : \"))\n",
    "num2 = int(input(\"enter a number : \"))\n",
    "if num1 > num2:\n",
    "    while(num1 > num2):\n",
    "        if num2 % 2 == 0:\n",
    "            print(num2)\n",
    "        num2 += 1\n",
    "else :\n",
    "    while(num1 < num2):\n",
    "        if num1 % 2 == 0:\n",
    "            print(num1)\n",
    "        num1 += 1"
   ]
  },
  {
   "cell_type": "code",
   "execution_count": 62,
   "id": "8bbb4353",
   "metadata": {},
   "outputs": [
    {
     "name": "stdout",
     "output_type": "stream",
     "text": [
      "Enter any number : 4\n",
      "4 is not prime number\n"
     ]
    }
   ],
   "source": [
    "# need to look into this\n",
    "# Write a program to check whether a number is prime or not using while loop.\n",
    "\n",
    "num1 = int(input(\"Enter any number : \"))\n",
    "k=0\n",
    "if num1 == 0 or num1 == 1:\n",
    "    print(\"Not a prime number \")\n",
    "else:\n",
    "   i = 2\n",
    "   while(i<num1):\n",
    "     if num1 % i == 0:\n",
    "       k = k+1\n",
    "     i = i+1\n",
    "if k == 0 :\n",
    "        print( num1,\"is prime number\")\n",
    "else:\n",
    "        print(num1, \"is not prime number\")"
   ]
  },
  {
   "cell_type": "code",
   "execution_count": 67,
   "id": "26e4c7a6",
   "metadata": {},
   "outputs": [
    {
     "data": {
      "text/plain": [
       "2"
      ]
     },
     "execution_count": 67,
     "metadata": {},
     "output_type": "execute_result"
    }
   ],
   "source": [
    "122%10"
   ]
  },
  {
   "cell_type": "code",
   "execution_count": 70,
   "id": "0209d04a",
   "metadata": {},
   "outputs": [
    {
     "name": "stdout",
     "output_type": "stream",
     "text": [
      "Enter any number : 15\n",
      "Sum of the digits are :  6\n"
     ]
    }
   ],
   "source": [
    "# need to look into this\n",
    "# Write a program to find the sum of the digits of a number accepted from the user.\n",
    "\n",
    "num1 = int(input(\"Enter any number : \"))\n",
    "r=0\n",
    "s=0\n",
    "while(num1!=0):\n",
    "    r = num1 % 10\n",
    "    s = s + r\n",
    "    num1 = num1//10\n",
    "print(\"Sum of the digits are : \" , s)"
   ]
  },
  {
   "cell_type": "code",
   "execution_count": 77,
   "id": "8ddfb402",
   "metadata": {},
   "outputs": [
    {
     "name": "stdout",
     "output_type": "stream",
     "text": [
      "Enter any number : 156\n",
      "Product of the digits are :  30\n"
     ]
    }
   ],
   "source": [
    "# Write a program to find the product of the digits of a number accepted from the user.\n",
    "\n",
    "num1 = int(input(\"Enter any number : \"))\n",
    "r=0\n",
    "p=1\n",
    "while(num1!=0):\n",
    "     r = num1 % 10\n",
    "     p = p * r\n",
    "     num1 = num1//10\n",
    "print(\"Product of the digits are : \" , p)"
   ]
  },
  {
   "cell_type": "code",
   "execution_count": 13,
   "id": "a65c4ab9",
   "metadata": {},
   "outputs": [
    {
     "name": "stdout",
     "output_type": "stream",
     "text": [
      "enter a number: 78\n",
      "Reverse no is:  87\n"
     ]
    }
   ],
   "source": [
    "# Write a program to reverse the number accepted from user using while loop.\n",
    "\n",
    "num = int(input(\"enter a number: \"))\n",
    "r = 0\n",
    "rnum = 0\n",
    "while (num != 0):\n",
    "    r = num%10 \n",
    "    rnum = rnum * 10 + r\n",
    "    num = num //10\n",
    "print(\"Reverse no is: \",rnum)"
   ]
  },
  {
   "cell_type": "code",
   "execution_count": 14,
   "id": "667cc7f3",
   "metadata": {},
   "outputs": [
    {
     "data": {
      "text/plain": [
       "8"
      ]
     },
     "execution_count": 14,
     "metadata": {},
     "output_type": "execute_result"
    }
   ],
   "source": [
    "r = 25%10\n",
    "r\n",
    "78%10"
   ]
  },
  {
   "cell_type": "code",
   "execution_count": 6,
   "id": "ee3ae27d",
   "metadata": {},
   "outputs": [
    {
     "data": {
      "text/plain": [
       "5"
      ]
     },
     "execution_count": 6,
     "metadata": {},
     "output_type": "execute_result"
    }
   ],
   "source": [
    "rnum = 0*10+5\n",
    "rnum"
   ]
  },
  {
   "cell_type": "code",
   "execution_count": 15,
   "id": "d448bc5c",
   "metadata": {},
   "outputs": [
    {
     "data": {
      "text/plain": [
       "7"
      ]
     },
     "execution_count": 15,
     "metadata": {},
     "output_type": "execute_result"
    }
   ],
   "source": [
    "num = 25//10\n",
    "num\n",
    "78//10"
   ]
  },
  {
   "cell_type": "code",
   "execution_count": 8,
   "id": "013cf58f",
   "metadata": {},
   "outputs": [
    {
     "data": {
      "text/plain": [
       "5"
      ]
     },
     "execution_count": 8,
     "metadata": {},
     "output_type": "execute_result"
    }
   ],
   "source": [
    "rnum"
   ]
  },
  {
   "cell_type": "code",
   "execution_count": 11,
   "id": "147a15b1",
   "metadata": {},
   "outputs": [
    {
     "data": {
      "text/plain": [
       "2"
      ]
     },
     "execution_count": 11,
     "metadata": {},
     "output_type": "execute_result"
    }
   ],
   "source": [
    "2%10"
   ]
  },
  {
   "cell_type": "code",
   "execution_count": 12,
   "id": "6b5bef67",
   "metadata": {},
   "outputs": [
    {
     "data": {
      "text/plain": [
       "0"
      ]
     },
     "execution_count": 12,
     "metadata": {},
     "output_type": "execute_result"
    }
   ],
   "source": [
    "2//10"
   ]
  },
  {
   "cell_type": "code",
   "execution_count": 19,
   "id": "4915761a",
   "metadata": {},
   "outputs": [
    {
     "name": "stdout",
     "output_type": "stream",
     "text": [
      "enter a number: 1525\n",
      "One Five Two Five "
     ]
    }
   ],
   "source": [
    "# Write a program to display the number names of the digits of a number entered by user, for example if the number is 231 then output should be Two Three One\n",
    "\n",
    "num = input(\"enter a number: \")\n",
    "L1 = list(num)\n",
    "L = len(L1)\n",
    "i = 0\n",
    "n= {0:\"Zero\",1:\"One\",2:\"Two\",3:\"Three\",4:\"Four\",5:\"Five\",6:\"Six\",7:\"Seven\",8:\"Eight\",9:\"Nine\"}\n",
    "while (i<L):\n",
    "    print(n[int(L1[i])],end = \" \")\n",
    "    i += 1"
   ]
  },
  {
   "cell_type": "code",
   "execution_count": 20,
   "id": "d2906401",
   "metadata": {},
   "outputs": [
    {
     "name": "stdout",
     "output_type": "stream",
     "text": [
      "enter any number: 4\n",
      "Factorial of number is:  24\n"
     ]
    }
   ],
   "source": [
    "# Write a program to print the factorial of a number accepted from user.\n",
    "\n",
    "num = int(input(\"enter any number: \"))\n",
    "f = 1\n",
    "i = 1\n",
    "while(i<=num):\n",
    "    f = f*i\n",
    "    i += 1\n",
    "print(\"Factorial of number is: \",f)\n",
    "\n"
   ]
  },
  {
   "cell_type": "code",
   "execution_count": 23,
   "id": "d96c7091",
   "metadata": {},
   "outputs": [
    {
     "name": "stdout",
     "output_type": "stream",
     "text": [
      "enter any number: 25\n",
      "Number is not Armstrong\n"
     ]
    }
   ],
   "source": [
    "# Write a program to check whether a number is Armstrong or not. (Armstrong number is a number that is equal to the sum of cubes of its digits for example : 153 = 1^3 + 5^3 + 3^3.)\n",
    "\n",
    "num = input(\"enter any number: \")\n",
    "p = 0\n",
    "L = len(num)\n",
    "L1 = list(num)\n",
    "i = 0\n",
    "while(i<L):\n",
    "    p = p + int(L1[i])**3\n",
    "    i = i + 1\n",
    "    \n",
    "if int(num) == p:\n",
    "    print(\"Number is Armstorng\")\n",
    "else:\n",
    "    print(\"Number is not Armstrong\")"
   ]
  },
  {
   "cell_type": "code",
   "execution_count": 4,
   "id": "af217fc8",
   "metadata": {},
   "outputs": [
    {
     "name": "stdout",
     "output_type": "stream",
     "text": [
      "Enter any number  : 5\n",
      "Sum is       :     2.67\n",
      "enter a nth term = 5\n",
      "sum of sequence =  2.7166666666666663\n"
     ]
    }
   ],
   "source": [
    "# not able to understand the question\n",
    "# Write a program to add first n terms of the following series using a for loop:\n",
    "#  1/1! + 1/2! + 1/3! + …….. + 1/n!\n",
    "\n",
    "num = int(input(\"Enter any number  : \"))\n",
    "sum = 0\n",
    "fact = 1\n",
    "i = 1\n",
    "while(i < num):\n",
    "      fact= fact*i\n",
    "      sum= sum + i/fact\n",
    "      i = i + 1\n",
    "print(\"Sum is       :    \",round(sum, 2))\n",
    "\n",
    "\n",
    "# Write a python program  to sum the sequence:\n",
    "# 1 + 1/1! + 1/2! + 1/3! + …….. + 1/n!\n",
    "n = int(input(\"enter a nth term = \"))\n",
    "f = 1\n",
    "s = 1\n",
    "i=1\n",
    "while(i<=n):\n",
    "      f = f * i\n",
    "      s = s + 1 / f\n",
    "      i=i+1\n",
    "print(\"sum of sequence = \", s)\n"
   ]
  },
  {
   "cell_type": "code",
   "execution_count": 30,
   "id": "c356aa17",
   "metadata": {},
   "outputs": [
    {
     "name": "stdout",
     "output_type": "stream",
     "text": [
      "Enter any number: 1\n",
      "Do you wish to continue(Y,N): Y\n",
      "Enter any number: 2\n",
      "Do you wish to continue(Y,N): Y\n",
      "Enter any number: 3\n",
      "Do you wish to continue(Y,N): Y\n",
      "Enter any number: 4\n",
      "Do you wish to continue(Y,N): Y\n",
      "Enter any number: 5\n",
      "Do you wish to continue(Y,N): N\n",
      "sum of all the numbers is:  15\n"
     ]
    }
   ],
   "source": [
    "# Write a program to enter the numbers till the user wants and at the end it should display the sum of all the numbers entered.\n",
    "\n",
    "ch = 'Y'\n",
    "sum = 0\n",
    "while ch.upper() == 'Y':\n",
    "    num = int(input(\"Enter any number: \"))\n",
    "    sum = sum + num\n",
    "    ch = input(\"Do you wish to continue(Y,N): \")\n",
    "print(\"sum of all the numbers is: \",sum)"
   ]
  },
  {
   "cell_type": "code",
   "execution_count": 31,
   "id": "d2486828",
   "metadata": {},
   "outputs": [
    {
     "name": "stdout",
     "output_type": "stream",
     "text": [
      "Enter any number: 5\n",
      "Enter any number: -5\n",
      "Enter any number: 4\n",
      "Enter any number: -4\n",
      "Enter any number: 3\n",
      "Enter any number: -3\n",
      "Enter any number: 2\n",
      "Enter any number: -2\n",
      "Enter any number: 1\n",
      "Enter any number: -1\n",
      "Enter any number: 0\n",
      "Sum of all the positive numbers is: 15\n",
      "Sum of all the negative numbers is:  -15\n"
     ]
    }
   ],
   "source": [
    "# Write a program to enter the numbers till the user enter ZERO and at the end it should display the count of positive and negative numbers entered.\n",
    "\n",
    "ch = 0\n",
    "sump = 0\n",
    "sumn = 0\n",
    "num = 1\n",
    "while (num!= 0):\n",
    "    num = int(input(\"Enter any number: \"))\n",
    "    if num > 0:\n",
    "        sump = sump + num\n",
    "    else:\n",
    "        sumn = sumn + num\n",
    "print(\"Sum of all the positive numbers is:\",sump)\n",
    "print(\"Sum of all the negative numbers is: \",sumn)"
   ]
  },
  {
   "cell_type": "code",
   "execution_count": 2,
   "id": "c4a6d064",
   "metadata": {},
   "outputs": [
    {
     "name": "stdout",
     "output_type": "stream",
     "text": [
      "Enter a positive number: 15\n",
      "Binary number of 15 is 1111\n"
     ]
    }
   ],
   "source": [
    "# Write a program to convert Decimal to Binary.\n",
    "\n",
    "num = int(input(\"Enter a positive number: \"))\n",
    "bin = 0\n",
    "p = 1\n",
    "n = num\n",
    "while n > 0:\n",
    "    rem = int(n%2)\n",
    "    bin += rem*p\n",
    "    p = p*10\n",
    "    n = n/2\n",
    "print(\"Binary number of\", num,\"is\",bin)"
   ]
  },
  {
   "cell_type": "code",
   "execution_count": 3,
   "id": "dd3269e0",
   "metadata": {},
   "outputs": [
    {
     "name": "stdout",
     "output_type": "stream",
     "text": [
      "Enter a binary number: 1111\n",
      "Decimal number of binary 1111  number is :  15\n"
     ]
    }
   ],
   "source": [
    "# Write a program to convert Binary to Decimal.\n",
    "\n",
    "bin = input(\"Enter a binary number: \")\n",
    "dec=0\n",
    "p=0\n",
    "for i in reversed(bin):\n",
    "     dec = dec + int(i)*pow(2,p)\n",
    "     p=p+1\n",
    "print(\"Decimal number of binary\",bin,\" number is : \",dec)"
   ]
  },
  {
   "cell_type": "code",
   "execution_count": 6,
   "id": "221cfe87",
   "metadata": {},
   "outputs": [
    {
     "name": "stdout",
     "output_type": "stream",
     "text": [
      "Enter number: 1\n",
      "Enter number: 2\n",
      "Enter number: 3\n",
      "Enter number: 4\n",
      "Enter number: 5\n",
      "Enter number: 6\n",
      "Enter number: 7\n",
      "Enter number: 8\n",
      "Enter number: 9\n",
      "Enter number: 10\n",
      "Average is:  5.5\n"
     ]
    }
   ],
   "source": [
    "# Write a program to accept 10 numbers from the user and display it’s average\n",
    "\n",
    "s = 0\n",
    "i = 0\n",
    "while(i<10):\n",
    "    n = int(input(\"Enter number: \"))\n",
    "    s = s + n\n",
    "    i = i + 1\n",
    "print(\"Average is: \",s/10)"
   ]
  },
  {
   "cell_type": "code",
   "execution_count": 7,
   "id": "36572704",
   "metadata": {},
   "outputs": [
    {
     "name": "stdout",
     "output_type": "stream",
     "text": [
      "Enter number: 1\n",
      "Enter number: 52\n",
      "Enter number: 58\n",
      "Enter number: 10001\n",
      "Enter number: 15\n",
      "Enter number: 66\n",
      "Enter number: 6\n",
      "Enter number: 85\n",
      "Enter number: 123\n",
      "Enter number: 98\n",
      "Largest number is:  10001\n",
      "Smallest number is:  1\n"
     ]
    }
   ],
   "source": [
    "# Write a program to accept 10 numbers from the user and display the largest & smallest number number.\n",
    "\n",
    "L = []\n",
    "i = 0\n",
    "while(i<10):\n",
    "    n = int(input(\"Enter number: \"))\n",
    "    L.append(n)\n",
    "    i = i+1\n",
    "L.sort()\n",
    "print(\"Largest number is: \",L[-1])\n",
    "print(\"Smallest number is: \",L[0])"
   ]
  },
  {
   "cell_type": "code",
   "execution_count": 1,
   "id": "24db78a1",
   "metadata": {},
   "outputs": [
    {
     "name": "stdout",
     "output_type": "stream",
     "text": [
      "Enter first number: 16\n",
      "Enter first number: 12\n",
      "Sum of even numbers is:  42\n",
      "Sum of odd numbers is:  28\n"
     ]
    }
   ],
   "source": [
    "# Write a program to display sum of odd numbers and even numbers separately that fall between two numbers accepted from the user.(including both numbers) using while loop.\n",
    "\n",
    "num1 = int(input(\"Enter first number: \"))\n",
    "num2 = int(input(\"Enter first number: \"))\n",
    "se = 0\n",
    "so = 0\n",
    "if num1 > num2:\n",
    "    while(num2<=num1):\n",
    "        if num2%2 == 0:\n",
    "            se = se+num2\n",
    "            num2 = num2 + 1\n",
    "        else:\n",
    "            so = so + num2\n",
    "            num2 = num2 + 1\n",
    "else:\n",
    "    while(num1 <= num2) :\n",
    "        if num1%2 == 0 :\n",
    "            se = se+num1\n",
    "            num1 += 1\n",
    "        else:\n",
    "            so += num1\n",
    "            num1 += 1\n",
    "print(\"Sum of even numbers is: \",se)\n",
    "print(\"Sum of odd numbers is: \",so)"
   ]
  },
  {
   "cell_type": "code",
   "execution_count": 1,
   "id": "3e6c0884",
   "metadata": {},
   "outputs": [
    {
     "name": "stdout",
     "output_type": "stream",
     "text": [
      "104\n",
      "130\n",
      "143\n",
      "169\n",
      "182\n",
      "208\n",
      "221\n",
      "247\n",
      "260\n",
      "286\n",
      "299\n",
      "325\n",
      "338\n",
      "364\n",
      "377\n",
      "403\n",
      "416\n",
      "442\n",
      "455\n",
      "481\n",
      "494\n"
     ]
    }
   ],
   "source": [
    "# Write a program to display all the numbers which are divisible by 13 but not by 3 between 100 and 500.(exclusive both numbers)\n",
    "\n",
    "i = 101\n",
    "while (i < 500):\n",
    "    if i%13 == 0 and i%3 != 0:\n",
    "        print(i)\n",
    "    i += 1"
   ]
  },
  {
   "cell_type": "code",
   "execution_count": 3,
   "id": "c29d87da",
   "metadata": {},
   "outputs": [
    {
     "name": "stdout",
     "output_type": "stream",
     "text": [
      "Enter value 5\n",
      "2,22,222,2222,22222,"
     ]
    }
   ],
   "source": [
    "#  Write a program to print the following series till n terms.\n",
    "# 2 , 22 , 222 , 2222 _ _ _ _ _ n terms\n",
    "\n",
    "\n",
    "n = int(input(\"Enter value \"))\n",
    "st = '2'\n",
    "i =0\n",
    "while i<n:\n",
    "    print(st,end=',')\n",
    "    st = st + '2'\n",
    "    i = i+1"
   ]
  },
  {
   "cell_type": "code",
   "execution_count": 4,
   "id": "d6b4a1ca",
   "metadata": {},
   "outputs": [
    {
     "name": "stdout",
     "output_type": "stream",
     "text": [
      "Enter number: 10\n",
      "0,1,4,9,16,25,36,49,64,81,"
     ]
    }
   ],
   "source": [
    "# Write a program to print the following series till n terms.\n",
    "# 1 4 9 16 25 _ _ _ _ _ n terms.\n",
    "\n",
    "n = int(input(\"Enter number: \"))\n",
    "i = 0\n",
    "while i<n:\n",
    "    print(i**2,end=',')\n",
    "    i = i+1"
   ]
  },
  {
   "cell_type": "code",
   "execution_count": 5,
   "id": "c2059900",
   "metadata": {},
   "outputs": [
    {
     "name": "stdout",
     "output_type": "stream",
     "text": [
      "Enter value of n : 5\n",
      "Enter value of x : 3\n",
      "16.375\n"
     ]
    }
   ],
   "source": [
    "#  Write a program to find the sum of the following series(accept values of x and n from user)\n",
    "# 1 + x/1! + x2/2! + ……….xn/n!\n",
    "\n",
    "def fac(n):\n",
    "    f = 1\n",
    "    for i in range(1,n+1):\n",
    "       f = f * i\n",
    "    return(f)\n",
    "sum = 1\n",
    "n = int(input(\"Enter value of n : \"))\n",
    "x = int(input(\"Enter value of x : \"))\n",
    "i = 1\n",
    "while(i < n):\n",
    "    sum = sum + x**i/fac(i)\n",
    "    i = i + 1\n",
    "print(sum)"
   ]
  },
  {
   "cell_type": "code",
   "execution_count": 6,
   "id": "cb3bf4a6",
   "metadata": {},
   "outputs": [
    {
     "name": "stdout",
     "output_type": "stream",
     "text": [
      "enter a nth term = 3\n",
      "Enter value of x : 2\n",
      "6.67\n"
     ]
    }
   ],
   "source": [
    "# Write a program to find the sum of following series :\n",
    "# x + x2/2 + ……….xn/n\n",
    "\n",
    "n = int(input(\"enter a nth term = \"))\n",
    "x = int(input(\"Enter value of x : \"))\n",
    "sum = 0\n",
    "i = 1\n",
    "while(i<=n):\n",
    "    sum = sum + 2**i/i\n",
    "    i = i + 1\n",
    "print(round(sum,2))"
   ]
  },
  {
   "cell_type": "code",
   "execution_count": 4,
   "id": "7074add0",
   "metadata": {},
   "outputs": [
    {
     "name": "stdout",
     "output_type": "stream",
     "text": [
      "Enter no: 4\n",
      "100\n"
     ]
    }
   ],
   "source": [
    "# Write a program to find the sum of following series\n",
    "# 1 + 8 + 27 …………n terms\n",
    "\n",
    "n = int(input(\"Enter no: \"))\n",
    "s = 0\n",
    "i = 1\n",
    "while i<=n:\n",
    "    s = s+i**3\n",
    "    i = i+1\n",
    "print(s)"
   ]
  },
  {
   "cell_type": "code",
   "execution_count": 6,
   "id": "dfedb8fd",
   "metadata": {},
   "outputs": [
    {
     "name": "stdout",
     "output_type": "stream",
     "text": [
      "Enter no: 5\n",
      "1+2+6+24+120+= 153\n"
     ]
    }
   ],
   "source": [
    "# Write a program to find the sum of following series:\n",
    "# 1 + 2 + 6 + 24 + 120 . . . . . n terms\n",
    "\n",
    "n = int(input(\"Enter no: \"))\n",
    "s = 0\n",
    "pr = 1\n",
    "i = 1\n",
    "while i<=n:\n",
    "    pr= i*pr\n",
    "    print(pr,end=\"+\")\n",
    "    s = s+pr\n",
    "    i = i+1\n",
    "print(\"=\",s)"
   ]
  },
  {
   "cell_type": "code",
   "execution_count": 7,
   "id": "ae10314d",
   "metadata": {},
   "outputs": [
    {
     "name": "stdout",
     "output_type": "stream",
     "text": [
      "Enter number: 6\n",
      "23\n"
     ]
    }
   ],
   "source": [
    "# Write a program to find the sum of following series:\n",
    "# S = 1 + 4 – 9 + 16 – 25 + 36 – … … n terms\n",
    "\n",
    "n = int(input(\"Enter number: \"))\n",
    "s = 0 \n",
    "sp = 1\n",
    "sn = 0\n",
    "i = 2\n",
    "while(i<=n):\n",
    "    if i%2 == 0:\n",
    "        sp = sp + i**2\n",
    "        i = i+1\n",
    "    else:\n",
    "        sn = sn + i**2\n",
    "        i = i+1\n",
    "print(sp-sn)"
   ]
  },
  {
   "cell_type": "code",
   "execution_count": 8,
   "id": "b5023276",
   "metadata": {},
   "outputs": [
    {
     "name": "stdout",
     "output_type": "stream",
     "text": [
      "P\n",
      "Y\n",
      "T\n",
      "H\n",
      "O\n",
      "N\n"
     ]
    }
   ],
   "source": [
    "# Write a Program to print all the characters in the string ‘PYTHON’ using while loop.\n",
    "\n",
    "str= \"PYTHON\"\n",
    "i = 0\n",
    "while(i<len(str)):\n",
    "    print(str[i])\n",
    "    i = i+1"
   ]
  },
  {
   "cell_type": "code",
   "execution_count": 11,
   "id": "77105d44",
   "metadata": {},
   "outputs": [
    {
     "name": "stdout",
     "output_type": "stream",
     "text": [
      "23\n",
      "45\n",
      "25\n",
      "33\n",
      "71\n"
     ]
    }
   ],
   "source": [
    "# Write a program to print only odd numbers from the given list using while loop. \n",
    "\n",
    "L = [23, 45, 32, 25, 46, 33, 71, 90]\n",
    "i = 0\n",
    "while i<len(L):\n",
    "    if L[i]%2 != 0: \n",
    "        print(L[i])\n",
    "    i = i + 1"
   ]
  },
  {
   "cell_type": "code",
   "execution_count": 15,
   "id": "ac7ec002",
   "metadata": {},
   "outputs": [
    {
     "name": "stdout",
     "output_type": "stream",
     "text": [
      "Enter no: 8\n",
      "Factors are: \n",
      "1\n",
      "2\n",
      "4\n",
      "8\n"
     ]
    }
   ],
   "source": [
    "# Write a program to print all the factors of a number using for loop.\n",
    "\n",
    "n = int(input(\"Enter no: \"))\n",
    "print(\"Factors are: \")\n",
    "i = 1\n",
    "while i <= n:\n",
    "    if n % i == 0:\n",
    "        print(i)\n",
    "    i = i+1"
   ]
  },
  {
   "cell_type": "code",
   "execution_count": 18,
   "id": "df5a8ade",
   "metadata": {},
   "outputs": [
    {
     "name": "stdout",
     "output_type": "stream",
     "text": [
      "1 --- 49\n",
      "2 --- 48\n",
      "3 --- 47\n",
      "4 --- 46\n",
      "5 --- 45\n",
      "6 --- 44\n",
      "7 --- 43\n",
      "8 --- 42\n",
      "9 --- 41\n",
      "10 --- 40\n",
      "11 --- 39\n",
      "12 --- 38\n",
      "13 --- 37\n",
      "14 --- 36\n",
      "15 --- 35\n",
      "16 --- 34\n",
      "17 --- 33\n",
      "18 --- 32\n",
      "19 --- 31\n",
      "20 --- 30\n",
      "21 --- 29\n",
      "22 --- 28\n",
      "23 --- 27\n",
      "24 --- 26\n",
      "25 --- 25\n",
      "26 --- 24\n",
      "27 --- 23\n",
      "28 --- 22\n",
      "29 --- 21\n",
      "30 --- 20\n",
      "31 --- 19\n",
      "32 --- 18\n",
      "33 --- 17\n",
      "34 --- 16\n",
      "35 --- 15\n",
      "36 --- 14\n",
      "37 --- 13\n",
      "38 --- 12\n",
      "39 --- 11\n",
      "40 --- 10\n",
      "41 --- 9\n",
      "42 --- 8\n",
      "43 --- 7\n",
      "44 --- 6\n",
      "45 --- 5\n",
      "46 --- 4\n",
      "47 --- 3\n",
      "48 --- 2\n",
      "49 --- 1\n"
     ]
    }
   ],
   "source": [
    "i = 1\n",
    "j = 49\n",
    "while i <= 49 and j >= 1:\n",
    "    print(i,\"---\",j)\n",
    "    i = i + 1\n",
    "    j = j-1"
   ]
  },
  {
   "cell_type": "code",
   "execution_count": null,
   "id": "2b7202e5",
   "metadata": {},
   "outputs": [],
   "source": []
  },
  {
   "cell_type": "code",
   "execution_count": null,
   "id": "1e748641",
   "metadata": {},
   "outputs": [],
   "source": []
  },
  {
   "cell_type": "code",
   "execution_count": null,
   "id": "bec2e1fc",
   "metadata": {},
   "outputs": [],
   "source": []
  },
  {
   "cell_type": "code",
   "execution_count": null,
   "id": "cf4e4337",
   "metadata": {},
   "outputs": [],
   "source": []
  },
  {
   "cell_type": "code",
   "execution_count": null,
   "id": "bab0ca55",
   "metadata": {},
   "outputs": [],
   "source": []
  },
  {
   "cell_type": "code",
   "execution_count": null,
   "id": "1f955976",
   "metadata": {},
   "outputs": [],
   "source": []
  },
  {
   "cell_type": "code",
   "execution_count": null,
   "id": "c59f75b8",
   "metadata": {},
   "outputs": [],
   "source": []
  }
 ],
 "metadata": {
  "kernelspec": {
   "display_name": "Python 3",
   "language": "python",
   "name": "python3"
  },
  "language_info": {
   "codemirror_mode": {
    "name": "ipython",
    "version": 3
   },
   "file_extension": ".py",
   "mimetype": "text/x-python",
   "name": "python",
   "nbconvert_exporter": "python",
   "pygments_lexer": "ipython3",
   "version": "3.8.8"
  }
 },
 "nbformat": 4,
 "nbformat_minor": 5
}
