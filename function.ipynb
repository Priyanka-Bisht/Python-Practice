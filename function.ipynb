{
 "cells": [
  {
   "cell_type": "code",
   "execution_count": 2,
   "id": "fa88f786",
   "metadata": {},
   "outputs": [],
   "source": [
    "# 1.\n",
    "def func1(name,age):\n",
    "    return name,age"
   ]
  },
  {
   "cell_type": "code",
   "execution_count": 3,
   "id": "66dfcd9d",
   "metadata": {},
   "outputs": [
    {
     "data": {
      "text/plain": [
       "('priyanka', 24)"
      ]
     },
     "execution_count": 3,
     "metadata": {},
     "output_type": "execute_result"
    }
   ],
   "source": [
    "func1(\"priyanka\",24)"
   ]
  },
  {
   "cell_type": "code",
   "execution_count": 4,
   "id": "f918d052",
   "metadata": {},
   "outputs": [],
   "source": [
    "# 2.\n",
    "\n",
    "def func2(*args):\n",
    "    return args"
   ]
  },
  {
   "cell_type": "code",
   "execution_count": 6,
   "id": "e764d02e",
   "metadata": {},
   "outputs": [
    {
     "data": {
      "text/plain": [
       "(20, 30, 40)"
      ]
     },
     "execution_count": 6,
     "metadata": {},
     "output_type": "execute_result"
    }
   ],
   "source": [
    "func2(20,30,40)"
   ]
  },
  {
   "cell_type": "code",
   "execution_count": 7,
   "id": "fe2dc116",
   "metadata": {},
   "outputs": [
    {
     "data": {
      "text/plain": [
       "(10, 20)"
      ]
     },
     "execution_count": 7,
     "metadata": {},
     "output_type": "execute_result"
    }
   ],
   "source": [
    "func2(10,20)"
   ]
  },
  {
   "cell_type": "code",
   "execution_count": 10,
   "id": "a4a9354f",
   "metadata": {},
   "outputs": [],
   "source": [
    "# alternate way\n",
    "\n",
    "def func3(*args):\n",
    "    for i in args:\n",
    "        print(i)"
   ]
  },
  {
   "cell_type": "code",
   "execution_count": 11,
   "id": "18ae686d",
   "metadata": {},
   "outputs": [
    {
     "name": "stdout",
     "output_type": "stream",
     "text": [
      "20\n",
      "30\n",
      "40\n"
     ]
    }
   ],
   "source": [
    "func3(20,30,40)"
   ]
  },
  {
   "cell_type": "code",
   "execution_count": 1,
   "id": "4429d6e4",
   "metadata": {},
   "outputs": [],
   "source": [
    "# 3.\n",
    "\n",
    "def calculation(a,b):\n",
    "    return a+b , a-b"
   ]
  },
  {
   "cell_type": "code",
   "execution_count": 3,
   "id": "c8b84fbe",
   "metadata": {},
   "outputs": [
    {
     "data": {
      "text/plain": [
       "(50, 30)"
      ]
     },
     "execution_count": 3,
     "metadata": {},
     "output_type": "execute_result"
    }
   ],
   "source": [
    "res = calculation(40,10)\n",
    "res"
   ]
  },
  {
   "cell_type": "code",
   "execution_count": 14,
   "id": "f4d82447",
   "metadata": {},
   "outputs": [],
   "source": [
    "# 4.\n",
    "def showemployee(name,salary = 9000):\n",
    "    print(\"Name:\",name , \"Salary:\",salary)"
   ]
  },
  {
   "cell_type": "code",
   "execution_count": 16,
   "id": "76fc13f8",
   "metadata": {},
   "outputs": [
    {
     "name": "stdout",
     "output_type": "stream",
     "text": [
      "Name: Ban Salary: 12000\n",
      "Name: Jessa Salary: 9000\n"
     ]
    }
   ],
   "source": [
    "showemployee('Ban',12000)\n",
    "showemployee('Jessa')"
   ]
  },
  {
   "cell_type": "code",
   "execution_count": 21,
   "id": "cda42b6d",
   "metadata": {},
   "outputs": [],
   "source": [
    "# 5.\n",
    "\n",
    "def outer(a,b):\n",
    "    def inner(a,b):\n",
    "        return a+b\n",
    "    c = a+b\n",
    "    return c+5"
   ]
  },
  {
   "cell_type": "code",
   "execution_count": 22,
   "id": "7c0bd03c",
   "metadata": {},
   "outputs": [
    {
     "data": {
      "text/plain": [
       "8"
      ]
     },
     "execution_count": 22,
     "metadata": {},
     "output_type": "execute_result"
    }
   ],
   "source": [
    "\n",
    "outer(1,2)"
   ]
  },
  {
   "cell_type": "code",
   "execution_count": 23,
   "id": "0eca3a11",
   "metadata": {},
   "outputs": [],
   "source": [
    "# 6.\n",
    "\n",
    "def addition(num):\n",
    "    if num:\n",
    "        return num+addition(num-1)\n",
    "    else:\n",
    "        return 0"
   ]
  },
  {
   "cell_type": "code",
   "execution_count": 24,
   "id": "dcbc58a4",
   "metadata": {},
   "outputs": [
    {
     "data": {
      "text/plain": [
       "55"
      ]
     },
     "execution_count": 24,
     "metadata": {},
     "output_type": "execute_result"
    }
   ],
   "source": [
    "addition(10)"
   ]
  },
  {
   "cell_type": "code",
   "execution_count": 30,
   "id": "c45c28fb",
   "metadata": {},
   "outputs": [
    {
     "name": "stdout",
     "output_type": "stream",
     "text": [
      "pink 5\n"
     ]
    }
   ],
   "source": [
    "# 7.\n",
    "\n",
    "def display_student(name,age):\n",
    "    print(name,age)\n",
    "    \n",
    "display_student(\"pink\",5)\n",
    "show_student = display_student"
   ]
  },
  {
   "cell_type": "code",
   "execution_count": 31,
   "id": "4a7913e9",
   "metadata": {},
   "outputs": [
    {
     "name": "stdout",
     "output_type": "stream",
     "text": [
      "pinka 15\n"
     ]
    }
   ],
   "source": [
    "show_student(\"pinka\",15)"
   ]
  },
  {
   "cell_type": "code",
   "execution_count": 32,
   "id": "3ea98ed8",
   "metadata": {},
   "outputs": [],
   "source": [
    "def display_student(name,age):\n",
    "    print(name,age)\n",
    "show_student = display_student"
   ]
  },
  {
   "cell_type": "code",
   "execution_count": 33,
   "id": "fd281280",
   "metadata": {},
   "outputs": [
    {
     "name": "stdout",
     "output_type": "stream",
     "text": [
      "pinka 15\n"
     ]
    }
   ],
   "source": [
    "show_student(\"pinka\",15)"
   ]
  },
  {
   "cell_type": "code",
   "execution_count": 36,
   "id": "74c72834",
   "metadata": {},
   "outputs": [],
   "source": [
    "# 8.\n",
    "\n",
    "def even_no(a,b):\n",
    "    print(list(range(a,b,2)))"
   ]
  },
  {
   "cell_type": "code",
   "execution_count": 38,
   "id": "92e68d24",
   "metadata": {},
   "outputs": [
    {
     "name": "stdout",
     "output_type": "stream",
     "text": [
      "[4, 6, 8, 10, 12, 14, 16, 18, 20, 22, 24, 26, 28]\n"
     ]
    }
   ],
   "source": [
    "even_no(4,30)"
   ]
  },
  {
   "cell_type": "code",
   "execution_count": 40,
   "id": "457974bb",
   "metadata": {},
   "outputs": [
    {
     "data": {
      "text/plain": [
       "24"
      ]
     },
     "execution_count": 40,
     "metadata": {},
     "output_type": "execute_result"
    }
   ],
   "source": [
    "# 9.\n",
    "\n",
    "x = [4, 6, 8, 24, 12, 2]\n",
    "max(x)"
   ]
  },
  {
   "cell_type": "code",
   "execution_count": 45,
   "id": "63f4601d",
   "metadata": {},
   "outputs": [
    {
     "name": "stdout",
     "output_type": "stream",
     "text": [
      "24\n"
     ]
    }
   ],
   "source": [
    "x = [4, 6, 24, 12, 2]\n",
    "z_max = 0\n",
    "for num in x:\n",
    "    if num > z_max:\n",
    "        z_max = num\n",
    "print(z_max)"
   ]
  },
  {
   "cell_type": "code",
   "execution_count": null,
   "id": "d0f6d62e",
   "metadata": {},
   "outputs": [],
   "source": []
  }
 ],
 "metadata": {
  "kernelspec": {
   "display_name": "Python 3",
   "language": "python",
   "name": "python3"
  },
  "language_info": {
   "codemirror_mode": {
    "name": "ipython",
    "version": 3
   },
   "file_extension": ".py",
   "mimetype": "text/x-python",
   "name": "python",
   "nbconvert_exporter": "python",
   "pygments_lexer": "ipython3",
   "version": "3.8.8"
  }
 },
 "nbformat": 4,
 "nbformat_minor": 5
}
